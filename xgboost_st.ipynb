{
 "cells": [
  {
   "cell_type": "markdown",
   "metadata": {},
   "source": [
    "# XGBoost Notebook - ST Matching\n",
    "\n",
    "The purpose of this notebook is to use the results from the ST matching scheme and predict the slope of road links.\n"
   ]
  },
  {
   "cell_type": "code",
   "execution_count": 1,
   "metadata": {
    "collapsed": false
   },
   "outputs": [
    {
     "name": "stderr",
     "output_type": "stream",
     "text": [
      "/home/ec2-user/anaconda3/lib/python3.6/site-packages/sklearn/cross_validation.py:44: DeprecationWarning: This module was deprecated in version 0.18 in favor of the model_selection module into which all the refactored classes and functions are moved. Also note that the interface of the new CV iterators are different from that of this module. This module will be removed in 0.20.\n",
      "  \"This module will be removed in 0.20.\", DeprecationWarning)\n"
     ]
    }
   ],
   "source": [
    "# Imports\n",
    "        \n",
    "import os\n",
    "import xgboost as xgb\n",
    "import numpy as np\n",
    "import matplotlib.pyplot as plt\n",
    "import pandas as pd\n",
    "\n",
    "%matplotlib inline\n",
    "\n",
    "from datetime import datetime\n",
    "\n",
    "\n",
    "# Constants\n",
    "DATA_DIR = \"probe_data_map_matching\"\n",
    "\n",
    "link_headers = [\"linkPVID\", \n",
    "                \"refNodeID\", \n",
    "                \"nrefNodeID\", \n",
    "                \"length\", \n",
    "                \"functionalClass\", \n",
    "                \"directionOfTravel\", \n",
    "                \"speedCategory\", \n",
    "                \"fromRefSpeedLimit\", \n",
    "                \"toRefSpeedLimit\", \n",
    "                \"fromRefNumLanes\", \n",
    "                \"toRefNumLanes\", \n",
    "                \"multiDigitized\", \n",
    "                \"urban\", \n",
    "                \"timeZone\", \n",
    "                \"shapeInfo\", \n",
    "                \"curvatureInfo\", \n",
    "                \"slopeInfo\"]"
   ]
  },
  {
   "cell_type": "code",
   "execution_count": 2,
   "metadata": {
    "collapsed": false
   },
   "outputs": [
    {
     "name": "stdout",
     "output_type": "stream",
     "text": [
      "(200089, 16)\n"
     ]
    },
    {
     "data": {
      "text/html": [
       "<div>\n",
       "<table border=\"1\" class=\"dataframe\">\n",
       "  <thead>\n",
       "    <tr style=\"text-align: right;\">\n",
       "      <th></th>\n",
       "      <th>linkPVID</th>\n",
       "      <th>refNodeID</th>\n",
       "      <th>nrefNodeID</th>\n",
       "      <th>length</th>\n",
       "      <th>functionalClass</th>\n",
       "      <th>directionOfTravel</th>\n",
       "      <th>speedCategory</th>\n",
       "      <th>fromRefSpeedLimit</th>\n",
       "      <th>toRefSpeedLimit</th>\n",
       "      <th>fromRefNumLanes</th>\n",
       "      <th>toRefNumLanes</th>\n",
       "      <th>multiDigitized</th>\n",
       "      <th>urban</th>\n",
       "      <th>timeZone</th>\n",
       "      <th>shapeInfo</th>\n",
       "      <th>slopeInfo</th>\n",
       "    </tr>\n",
       "  </thead>\n",
       "  <tbody>\n",
       "    <tr>\n",
       "      <th>0</th>\n",
       "      <td>62007637</td>\n",
       "      <td>162844982</td>\n",
       "      <td>162809070</td>\n",
       "      <td>335.04</td>\n",
       "      <td>5</td>\n",
       "      <td>B</td>\n",
       "      <td>7</td>\n",
       "      <td>30</td>\n",
       "      <td>30</td>\n",
       "      <td>0</td>\n",
       "      <td>0</td>\n",
       "      <td>F</td>\n",
       "      <td>T</td>\n",
       "      <td>0.0</td>\n",
       "      <td>51.4965800/9.3862299/|51.4994700/9.3848799/</td>\n",
       "      <td>NaN</td>\n",
       "    </tr>\n",
       "    <tr>\n",
       "      <th>1</th>\n",
       "      <td>567329767</td>\n",
       "      <td>162844982</td>\n",
       "      <td>162981512</td>\n",
       "      <td>134.56</td>\n",
       "      <td>5</td>\n",
       "      <td>B</td>\n",
       "      <td>7</td>\n",
       "      <td>0</td>\n",
       "      <td>0</td>\n",
       "      <td>0</td>\n",
       "      <td>0</td>\n",
       "      <td>F</td>\n",
       "      <td>T</td>\n",
       "      <td>0.0</td>\n",
       "      <td>51.4965800/9.3862299/|51.4966899/9.3867100/|51...</td>\n",
       "      <td>NaN</td>\n",
       "    </tr>\n",
       "    <tr>\n",
       "      <th>2</th>\n",
       "      <td>62007648</td>\n",
       "      <td>162877732</td>\n",
       "      <td>162844982</td>\n",
       "      <td>97.01</td>\n",
       "      <td>5</td>\n",
       "      <td>B</td>\n",
       "      <td>7</td>\n",
       "      <td>30</td>\n",
       "      <td>30</td>\n",
       "      <td>0</td>\n",
       "      <td>0</td>\n",
       "      <td>F</td>\n",
       "      <td>T</td>\n",
       "      <td>0.0</td>\n",
       "      <td>51.4962899/9.3849100/|51.4965800/9.3862299/</td>\n",
       "      <td>NaN</td>\n",
       "    </tr>\n",
       "    <tr>\n",
       "      <th>3</th>\n",
       "      <td>78670326</td>\n",
       "      <td>162877732</td>\n",
       "      <td>163152693</td>\n",
       "      <td>314.84</td>\n",
       "      <td>5</td>\n",
       "      <td>B</td>\n",
       "      <td>7</td>\n",
       "      <td>30</td>\n",
       "      <td>30</td>\n",
       "      <td>0</td>\n",
       "      <td>0</td>\n",
       "      <td>F</td>\n",
       "      <td>T</td>\n",
       "      <td>0.0</td>\n",
       "      <td>51.4962899/9.3849100/|51.4990000/9.3836099/</td>\n",
       "      <td>NaN</td>\n",
       "    </tr>\n",
       "    <tr>\n",
       "      <th>4</th>\n",
       "      <td>51881672</td>\n",
       "      <td>174713859</td>\n",
       "      <td>174587951</td>\n",
       "      <td>110.17</td>\n",
       "      <td>3</td>\n",
       "      <td>B</td>\n",
       "      <td>6</td>\n",
       "      <td>50</td>\n",
       "      <td>50</td>\n",
       "      <td>2</td>\n",
       "      <td>2</td>\n",
       "      <td>F</td>\n",
       "      <td>T</td>\n",
       "      <td>0.0</td>\n",
       "      <td>53.0643099/8.7903400/45.79|53.0650299/8.791470...</td>\n",
       "      <td>0.00/-0.090|110.17/0.062</td>\n",
       "    </tr>\n",
       "  </tbody>\n",
       "</table>\n",
       "</div>"
      ],
      "text/plain": [
       "    linkPVID  refNodeID  nrefNodeID  length  functionalClass  \\\n",
       "0   62007637  162844982   162809070  335.04                5   \n",
       "1  567329767  162844982   162981512  134.56                5   \n",
       "2   62007648  162877732   162844982   97.01                5   \n",
       "3   78670326  162877732   163152693  314.84                5   \n",
       "4   51881672  174713859   174587951  110.17                3   \n",
       "\n",
       "  directionOfTravel  speedCategory  fromRefSpeedLimit  toRefSpeedLimit  \\\n",
       "0                 B              7                 30               30   \n",
       "1                 B              7                  0                0   \n",
       "2                 B              7                 30               30   \n",
       "3                 B              7                 30               30   \n",
       "4                 B              6                 50               50   \n",
       "\n",
       "   fromRefNumLanes  toRefNumLanes multiDigitized urban  timeZone  \\\n",
       "0                0              0              F     T       0.0   \n",
       "1                0              0              F     T       0.0   \n",
       "2                0              0              F     T       0.0   \n",
       "3                0              0              F     T       0.0   \n",
       "4                2              2              F     T       0.0   \n",
       "\n",
       "                                           shapeInfo                 slopeInfo  \n",
       "0        51.4965800/9.3862299/|51.4994700/9.3848799/                       NaN  \n",
       "1  51.4965800/9.3862299/|51.4966899/9.3867100/|51...                       NaN  \n",
       "2        51.4962899/9.3849100/|51.4965800/9.3862299/                       NaN  \n",
       "3        51.4962899/9.3849100/|51.4990000/9.3836099/                       NaN  \n",
       "4  53.0643099/8.7903400/45.79|53.0650299/8.791470...  0.00/-0.090|110.17/0.062  "
      ]
     },
     "execution_count": 2,
     "metadata": {},
     "output_type": "execute_result"
    }
   ],
   "source": [
    "# Read in the Link Data\n",
    "link_data = pd.read_csv(os.path.join(DATA_DIR, \"Partition6467LinkData.csv\"), header=None, names=link_headers)\n",
    "link_data.drop('curvatureInfo', axis=1, inplace=True)\n",
    "\n",
    "print(link_data.shape)\n",
    "\n",
    "link_data.head()"
   ]
  },
  {
   "cell_type": "code",
   "execution_count": 3,
   "metadata": {
    "collapsed": false
   },
   "outputs": [
    {
     "data": {
      "text/plain": [
       "(53517, 16)"
      ]
     },
     "execution_count": 3,
     "metadata": {},
     "output_type": "execute_result"
    }
   ],
   "source": [
    "# how many have slope info?\n",
    "link_data.dropna().shape"
   ]
  },
  {
   "cell_type": "code",
   "execution_count": 4,
   "metadata": {
    "collapsed": true
   },
   "outputs": [],
   "source": [
    "# Actually get rid of the missings\n",
    "link_data.dropna(inplace=True)"
   ]
  },
  {
   "cell_type": "code",
   "execution_count": 7,
   "metadata": {
    "collapsed": false
   },
   "outputs": [],
   "source": [
    "# Read in the (Matched) Probe Data\n",
    "\n",
    "probe_data = pd.read_csv(os.path.join(DATA_DIR, \"st_linked_data.csv\"))\n",
    "probe_data['dateTime'] = pd.to_datetime(probe_data['dateTime'], format='%Y-%m-%d %H:%M:%S')\n",
    "#probe_data.to_pickle(os.path.join(DATA_DIR, 'converted_simple_match.pickle'))\n",
    "\n",
    "#probe_data = pd.read_pickle(os.path.join(DATA_DIR, 'converted_probe_linked_data.pickle'))"
   ]
  },
  {
   "cell_type": "markdown",
   "metadata": {},
   "source": [
    "## Quick Analysis of Simple Matching Results\n",
    "\n",
    "Here we take a quick look to see what kind of coverage we have from the simple matching scheme. Do we match to most of the links? Very few? "
   ]
  },
  {
   "cell_type": "code",
   "execution_count": 8,
   "metadata": {
    "collapsed": false
   },
   "outputs": [
    {
     "data": {
      "text/plain": [
       "(3278670, 12)"
      ]
     },
     "execution_count": 8,
     "metadata": {},
     "output_type": "execute_result"
    }
   ],
   "source": [
    "probe_data.shape"
   ]
  },
  {
   "cell_type": "code",
   "execution_count": 9,
   "metadata": {
    "collapsed": false
   },
   "outputs": [
    {
     "name": "stdout",
     "output_type": "stream",
     "text": [
      "Roughly what do the Groups look like?\n",
      "0 Int64Index([     63,      64,      65,      66,      67,      68,      69,\n",
      "                 70,      71,      72,\n",
      "            ...\n",
      "            3278659, 3278660, 3278661, 3278662, 3278663, 3278664, 3278665,\n",
      "            3278666, 3278667, 3278668],\n",
      "           dtype='int64', length=3023636)\n",
      "51514674 Int64Index([156949, 156950, 455152, 455153, 455154], dtype='int64')\n",
      "51514675 Int64Index([156948, 455151], dtype='int64')\n",
      "51514774 Int64Index([579634], dtype='int64')\n",
      "51515464 Int64Index([1132207, 1132208, 1132209, 1132210, 1132211], dtype='int64')\n",
      "51515511 Int64Index([2298348], dtype='int64')\n",
      "There are 55232 Unique linkPVID's represented\n"
     ]
    }
   ],
   "source": [
    "# How many unique linkPVID's are contained in the matched probe data\n",
    "print(\"Roughly what do the Groups look like?\")\n",
    "itr = 0\n",
    "for i in probe_data.groupby('linkPVID').groups:\n",
    "    if itr <= 5:\n",
    "        print(i, probe_data.groupby('linkPVID').groups[i])\n",
    "        itr += 1\n",
    "\n",
    "print(\"There are {} Unique linkPVID's represented\".format(len(probe_data.groupby('linkPVID').groups)))"
   ]
  },
  {
   "cell_type": "markdown",
   "metadata": {},
   "source": [
    "So, 55232 Unique PVID's are covered. Given that there are roughly 200,000 links in the dataset, this level of coverage is actually a bit disappointing."
   ]
  },
  {
   "cell_type": "markdown",
   "metadata": {},
   "source": [
    "### Join to Link Data"
   ]
  },
  {
   "cell_type": "code",
   "execution_count": 10,
   "metadata": {
    "collapsed": true
   },
   "outputs": [],
   "source": [
    "joined_data = probe_data.join(link_data.set_index('linkPVID'), on='linkPVID', how='inner', lsuffix='l', rsuffix='r')\n"
   ]
  },
  {
   "cell_type": "code",
   "execution_count": 11,
   "metadata": {
    "collapsed": false
   },
   "outputs": [
    {
     "data": {
      "text/html": [
       "<div>\n",
       "<table border=\"1\" class=\"dataframe\">\n",
       "  <thead>\n",
       "    <tr style=\"text-align: right;\">\n",
       "      <th></th>\n",
       "      <th>sampleID</th>\n",
       "      <th>dateTime</th>\n",
       "      <th>sourceCode</th>\n",
       "      <th>latitude</th>\n",
       "      <th>longitude</th>\n",
       "      <th>altitude</th>\n",
       "      <th>speed</th>\n",
       "      <th>heading</th>\n",
       "      <th>linkPVID</th>\n",
       "      <th>directionOfTravell</th>\n",
       "      <th>...</th>\n",
       "      <th>speedCategory</th>\n",
       "      <th>fromRefSpeedLimit</th>\n",
       "      <th>toRefSpeedLimit</th>\n",
       "      <th>fromRefNumLanes</th>\n",
       "      <th>toRefNumLanes</th>\n",
       "      <th>multiDigitized</th>\n",
       "      <th>urban</th>\n",
       "      <th>timeZone</th>\n",
       "      <th>shapeInfo</th>\n",
       "      <th>slopeInfo</th>\n",
       "    </tr>\n",
       "  </thead>\n",
       "  <tbody>\n",
       "    <tr>\n",
       "      <th>186</th>\n",
       "      <td>4553</td>\n",
       "      <td>2009-06-13 11:46:13</td>\n",
       "      <td>13</td>\n",
       "      <td>53.062489</td>\n",
       "      <td>8.788584</td>\n",
       "      <td>37</td>\n",
       "      <td>0</td>\n",
       "      <td>206</td>\n",
       "      <td>51888926</td>\n",
       "      <td>F</td>\n",
       "      <td>...</td>\n",
       "      <td>6</td>\n",
       "      <td>50</td>\n",
       "      <td>0</td>\n",
       "      <td>2</td>\n",
       "      <td>0</td>\n",
       "      <td>T</td>\n",
       "      <td>T</td>\n",
       "      <td>0.0</td>\n",
       "      <td>53.0619600/8.7892099/46.33|53.0620699/8.789139...</td>\n",
       "      <td>0.00/0.226|13.11/0.266|26.84/0.272|74.41/0.018...</td>\n",
       "    </tr>\n",
       "    <tr>\n",
       "      <th>3187470</th>\n",
       "      <td>5670507</td>\n",
       "      <td>2010-02-27 10:47:03</td>\n",
       "      <td>13</td>\n",
       "      <td>53.062436</td>\n",
       "      <td>8.788838</td>\n",
       "      <td>42</td>\n",
       "      <td>28</td>\n",
       "      <td>308</td>\n",
       "      <td>51888926</td>\n",
       "      <td>F</td>\n",
       "      <td>...</td>\n",
       "      <td>6</td>\n",
       "      <td>50</td>\n",
       "      <td>0</td>\n",
       "      <td>2</td>\n",
       "      <td>0</td>\n",
       "      <td>T</td>\n",
       "      <td>T</td>\n",
       "      <td>0.0</td>\n",
       "      <td>53.0619600/8.7892099/46.33|53.0620699/8.789139...</td>\n",
       "      <td>0.00/0.226|13.11/0.266|26.84/0.272|74.41/0.018...</td>\n",
       "    </tr>\n",
       "    <tr>\n",
       "      <th>248</th>\n",
       "      <td>4554</td>\n",
       "      <td>2009-06-13 11:40:00</td>\n",
       "      <td>13</td>\n",
       "      <td>53.046786</td>\n",
       "      <td>8.818247</td>\n",
       "      <td>45</td>\n",
       "      <td>34</td>\n",
       "      <td>26</td>\n",
       "      <td>51867668</td>\n",
       "      <td>F</td>\n",
       "      <td>...</td>\n",
       "      <td>6</td>\n",
       "      <td>50</td>\n",
       "      <td>0</td>\n",
       "      <td>2</td>\n",
       "      <td>0</td>\n",
       "      <td>T</td>\n",
       "      <td>T</td>\n",
       "      <td>0.0</td>\n",
       "      <td>53.0467600/8.8181899/46.78|53.0470600/8.818459...</td>\n",
       "      <td>0.00/-0.019|37.97/-0.127</td>\n",
       "    </tr>\n",
       "    <tr>\n",
       "      <th>372</th>\n",
       "      <td>4556</td>\n",
       "      <td>2009-06-13 08:31:20</td>\n",
       "      <td>13</td>\n",
       "      <td>53.048262</td>\n",
       "      <td>8.818624</td>\n",
       "      <td>48</td>\n",
       "      <td>0</td>\n",
       "      <td>173</td>\n",
       "      <td>724991084</td>\n",
       "      <td>T</td>\n",
       "      <td>...</td>\n",
       "      <td>6</td>\n",
       "      <td>0</td>\n",
       "      <td>998</td>\n",
       "      <td>0</td>\n",
       "      <td>2</td>\n",
       "      <td>F</td>\n",
       "      <td>T</td>\n",
       "      <td>0.0</td>\n",
       "      <td>53.0482000/8.8188000/46.6|53.0483000/8.8187100...</td>\n",
       "      <td>0.00/-0.240|12.66/-0.132|24.01/-0.021</td>\n",
       "    </tr>\n",
       "    <tr>\n",
       "      <th>709832</th>\n",
       "      <td>901929</td>\n",
       "      <td>2009-10-21 16:12:08</td>\n",
       "      <td>13</td>\n",
       "      <td>53.048276</td>\n",
       "      <td>8.818778</td>\n",
       "      <td>52</td>\n",
       "      <td>5</td>\n",
       "      <td>124</td>\n",
       "      <td>724991084</td>\n",
       "      <td>T</td>\n",
       "      <td>...</td>\n",
       "      <td>6</td>\n",
       "      <td>0</td>\n",
       "      <td>998</td>\n",
       "      <td>0</td>\n",
       "      <td>2</td>\n",
       "      <td>F</td>\n",
       "      <td>T</td>\n",
       "      <td>0.0</td>\n",
       "      <td>53.0482000/8.8188000/46.6|53.0483000/8.8187100...</td>\n",
       "      <td>0.00/-0.240|12.66/-0.132|24.01/-0.021</td>\n",
       "    </tr>\n",
       "  </tbody>\n",
       "</table>\n",
       "<p>5 rows × 27 columns</p>\n",
       "</div>"
      ],
      "text/plain": [
       "         sampleID            dateTime  sourceCode   latitude  longitude  \\\n",
       "186          4553 2009-06-13 11:46:13          13  53.062489   8.788584   \n",
       "3187470   5670507 2010-02-27 10:47:03          13  53.062436   8.788838   \n",
       "248          4554 2009-06-13 11:40:00          13  53.046786   8.818247   \n",
       "372          4556 2009-06-13 08:31:20          13  53.048262   8.818624   \n",
       "709832     901929 2009-10-21 16:12:08          13  53.048276   8.818778   \n",
       "\n",
       "         altitude  speed  heading   linkPVID directionOfTravell  \\\n",
       "186            37      0      206   51888926                  F   \n",
       "3187470        42     28      308   51888926                  F   \n",
       "248            45     34       26   51867668                  F   \n",
       "372            48      0      173  724991084                  T   \n",
       "709832         52      5      124  724991084                  T   \n",
       "\n",
       "                               ...                          speedCategory  \\\n",
       "186                            ...                                      6   \n",
       "3187470                        ...                                      6   \n",
       "248                            ...                                      6   \n",
       "372                            ...                                      6   \n",
       "709832                         ...                                      6   \n",
       "\n",
       "         fromRefSpeedLimit  toRefSpeedLimit  fromRefNumLanes  toRefNumLanes  \\\n",
       "186                     50                0                2              0   \n",
       "3187470                 50                0                2              0   \n",
       "248                     50                0                2              0   \n",
       "372                      0              998                0              2   \n",
       "709832                   0              998                0              2   \n",
       "\n",
       "         multiDigitized urban  timeZone  \\\n",
       "186                   T     T       0.0   \n",
       "3187470               T     T       0.0   \n",
       "248                   T     T       0.0   \n",
       "372                   F     T       0.0   \n",
       "709832                F     T       0.0   \n",
       "\n",
       "                                                 shapeInfo  \\\n",
       "186      53.0619600/8.7892099/46.33|53.0620699/8.789139...   \n",
       "3187470  53.0619600/8.7892099/46.33|53.0620699/8.789139...   \n",
       "248      53.0467600/8.8181899/46.78|53.0470600/8.818459...   \n",
       "372      53.0482000/8.8188000/46.6|53.0483000/8.8187100...   \n",
       "709832   53.0482000/8.8188000/46.6|53.0483000/8.8187100...   \n",
       "\n",
       "                                                 slopeInfo  \n",
       "186      0.00/0.226|13.11/0.266|26.84/0.272|74.41/0.018...  \n",
       "3187470  0.00/0.226|13.11/0.266|26.84/0.272|74.41/0.018...  \n",
       "248                               0.00/-0.019|37.97/-0.127  \n",
       "372                  0.00/-0.240|12.66/-0.132|24.01/-0.021  \n",
       "709832               0.00/-0.240|12.66/-0.132|24.01/-0.021  \n",
       "\n",
       "[5 rows x 27 columns]"
      ]
     },
     "execution_count": 11,
     "metadata": {},
     "output_type": "execute_result"
    }
   ],
   "source": [
    "joined_data.head()"
   ]
  },
  {
   "cell_type": "code",
   "execution_count": 12,
   "metadata": {
    "collapsed": false
   },
   "outputs": [
    {
     "name": "stdout",
     "output_type": "stream",
     "text": [
      "And now after the join and NA removal, we have 104203 rows of data\n"
     ]
    }
   ],
   "source": [
    "print(\"And now after the join and NA removal, we have {} rows of data\".format(joined_data.shape[0]))"
   ]
  },
  {
   "cell_type": "markdown",
   "metadata": {},
   "source": [
    "## Model Setup\n",
    "\n",
    "Here we want to build an ML Model to predict the slope of a link given some gps probe data. In order to do that we'll use the average slope of the link as the target and (a subset) of the rest of the columns of data as features for the model to predict it.\n",
    "\n",
    "We opt to use XGBoost for a couple reasons:\n",
    "\n",
    "First, it is a tree-based model which we think is well-suited to the lat/lon features. While we are doing a _regression_ model, we do not believe that a linear regression is the best tool for it since latitude and longitude, while real-valued, are not truly ordinal features well-suited to linear (OLS) modeling. On the other hand, tree-based (in particular boosted tree-based) models allow us to learn a complex topographical map over these features because of different split points.\n",
    "\n",
    "Second, it is stable, well-developed and highly parallelizable which is allows us to scale to large datasets. This is appropriate because we have 3.3 million probe points.\n",
    "\n",
    "Finally, XGBoost is a favorite among Data Scientists and Kaggle Competition winners due to its often first-class performance without requiring as much data, maintenance, or computing resources as neural networks. And, since we are not interested in automatic feature extraction such as one might attempt with Deep Learning, we think that XGBoost is a good fit."
   ]
  },
  {
   "cell_type": "markdown",
   "metadata": {},
   "source": [
    "## Feature Engineering\n",
    "\n",
    "However, that doesn't mean that we aren't interested in creating new features. We think that there could be a lot of value in features that take the sequence of probe points (the trajectory) into account. These rollup features are things like distance traveled since last point, change in speed, change in elevation, sliding window estimates of slope, etc.\n",
    "\n",
    "They are computed below."
   ]
  },
  {
   "cell_type": "code",
   "execution_count": 13,
   "metadata": {
    "collapsed": true
   },
   "outputs": [],
   "source": [
    "def rolling_diff(df):\n",
    "    return df[-1] - df[0]\n",
    "\n",
    "cleaned_joined_data = joined_data.dropna()\n",
    "\n",
    "cleaned_joined_data['avg_link_slope'] = cleaned_joined_data['slopeInfo'].apply(lambda x: np.mean([float(i.split('/')[1]) for i in x.split('|')]))\n",
    "\n",
    "gdf = cleaned_joined_data.groupby('sampleID')\n",
    "cleaned_joined_data['delta_elevation'] = gdf['altitude'].apply(lambda x: x.rolling(2, min_periods=2).apply(rolling_diff)).reset_index(0, drop=True)\n",
    "cleaned_joined_data['delta_latitude'] = gdf['latitude'].apply(lambda x: x.rolling(2, min_periods=2).apply(rolling_diff)).reset_index(0, drop=True)\n",
    "cleaned_joined_data['delta_longitude'] = gdf['longitude'].apply(lambda x: x.rolling(2, min_periods=2).apply(rolling_diff)).reset_index(0, drop=True)\n",
    "cleaned_joined_data['delta_speed'] = gdf['speed'].apply(lambda x: x.rolling(2, min_periods=2).apply(rolling_diff)).reset_index(0, drop=True)\n",
    "cleaned_joined_data['rolling_slope'] = cleaned_joined_data['delta_elevation'] / np.sqrt(cleaned_joined_data['delta_latitude'] ** 2 + cleaned_joined_data['delta_longitude'] ** 2)\n",
    "cleaned_joined_data['rolling_acc'] = cleaned_joined_data['delta_speed'] / np.sqrt(cleaned_joined_data['delta_latitude'] ** 2 + cleaned_joined_data['delta_longitude'] ** 2)\n",
    "\n",
    "cleaned_joined_data = cleaned_joined_data.dropna()\n",
    "\n",
    "\n"
   ]
  },
  {
   "cell_type": "code",
   "execution_count": 15,
   "metadata": {
    "collapsed": false
   },
   "outputs": [
    {
     "name": "stdout",
     "output_type": "stream",
     "text": [
      "(1839, 9)\n",
      "[0]\teval-rmse:0.877123\ttrain-rmse:0.934986\n",
      "Multiple eval metrics have been passed: 'train-rmse' will be used for early stopping.\n",
      "\n",
      "Will train until train-rmse hasn't improved in 10 rounds.\n",
      "[1]\teval-rmse:0.784567\ttrain-rmse:0.837661\n",
      "[2]\teval-rmse:0.71615\ttrain-rmse:0.760709\n",
      "[3]\teval-rmse:0.669292\ttrain-rmse:0.707387\n",
      "[4]\teval-rmse:0.634759\ttrain-rmse:0.663341\n",
      "[5]\teval-rmse:0.613614\ttrain-rmse:0.629843\n",
      "[6]\teval-rmse:0.594605\ttrain-rmse:0.605963\n",
      "[7]\teval-rmse:0.586871\ttrain-rmse:0.588396\n",
      "[8]\teval-rmse:0.580075\ttrain-rmse:0.566441\n",
      "[9]\teval-rmse:0.568275\ttrain-rmse:0.547251\n",
      "[10]\teval-rmse:0.557983\ttrain-rmse:0.533658\n",
      "[11]\teval-rmse:0.561466\ttrain-rmse:0.52189\n",
      "[12]\teval-rmse:0.559023\ttrain-rmse:0.508932\n",
      "[13]\teval-rmse:0.557138\ttrain-rmse:0.496016\n",
      "[14]\teval-rmse:0.556081\ttrain-rmse:0.491596\n",
      "[15]\teval-rmse:0.554526\ttrain-rmse:0.484704\n",
      "[16]\teval-rmse:0.553694\ttrain-rmse:0.479909\n",
      "[17]\teval-rmse:0.554796\ttrain-rmse:0.469662\n",
      "[18]\teval-rmse:0.554069\ttrain-rmse:0.464472\n",
      "[19]\teval-rmse:0.550129\ttrain-rmse:0.457041\n",
      "[20]\teval-rmse:0.549053\ttrain-rmse:0.449582\n",
      "[21]\teval-rmse:0.552111\ttrain-rmse:0.446628\n",
      "[22]\teval-rmse:0.553989\ttrain-rmse:0.440758\n",
      "[23]\teval-rmse:0.551021\ttrain-rmse:0.434474\n",
      "[24]\teval-rmse:0.551209\ttrain-rmse:0.430253\n",
      "[25]\teval-rmse:0.551064\ttrain-rmse:0.427981\n",
      "[26]\teval-rmse:0.551951\ttrain-rmse:0.426152\n",
      "[27]\teval-rmse:0.550396\ttrain-rmse:0.417948\n",
      "[28]\teval-rmse:0.549762\ttrain-rmse:0.412544\n",
      "[29]\teval-rmse:0.54988\ttrain-rmse:0.406786\n",
      "[30]\teval-rmse:0.550708\ttrain-rmse:0.403972\n",
      "[31]\teval-rmse:0.549343\ttrain-rmse:0.398014\n",
      "[32]\teval-rmse:0.549121\ttrain-rmse:0.395803\n",
      "[33]\teval-rmse:0.547936\ttrain-rmse:0.391922\n",
      "[34]\teval-rmse:0.547797\ttrain-rmse:0.390319\n",
      "[35]\teval-rmse:0.546943\ttrain-rmse:0.383146\n",
      "[36]\teval-rmse:0.545016\ttrain-rmse:0.380299\n",
      "[37]\teval-rmse:0.543969\ttrain-rmse:0.376839\n",
      "[38]\teval-rmse:0.543986\ttrain-rmse:0.37579\n",
      "[39]\teval-rmse:0.543662\ttrain-rmse:0.369341\n",
      "[40]\teval-rmse:0.544191\ttrain-rmse:0.368001\n",
      "[41]\teval-rmse:0.544725\ttrain-rmse:0.364973\n",
      "[42]\teval-rmse:0.543526\ttrain-rmse:0.363195\n",
      "[43]\teval-rmse:0.542515\ttrain-rmse:0.354883\n",
      "[44]\teval-rmse:0.541289\ttrain-rmse:0.35319\n",
      "[45]\teval-rmse:0.539717\ttrain-rmse:0.347664\n",
      "[46]\teval-rmse:0.53941\ttrain-rmse:0.346424\n",
      "[47]\teval-rmse:0.536899\ttrain-rmse:0.340118\n",
      "[48]\teval-rmse:0.537748\ttrain-rmse:0.335256\n",
      "[49]\teval-rmse:0.537279\ttrain-rmse:0.332469\n",
      "[50]\teval-rmse:0.53786\ttrain-rmse:0.327377\n",
      "[51]\teval-rmse:0.538757\ttrain-rmse:0.321904\n",
      "[52]\teval-rmse:0.538293\ttrain-rmse:0.318119\n",
      "[53]\teval-rmse:0.537887\ttrain-rmse:0.316163\n",
      "[54]\teval-rmse:0.538391\ttrain-rmse:0.315352\n",
      "[55]\teval-rmse:0.539213\ttrain-rmse:0.313848\n",
      "[56]\teval-rmse:0.537396\ttrain-rmse:0.309071\n",
      "[57]\teval-rmse:0.536887\ttrain-rmse:0.306346\n",
      "[58]\teval-rmse:0.536851\ttrain-rmse:0.305802\n",
      "[59]\teval-rmse:0.537023\ttrain-rmse:0.302785\n",
      "[60]\teval-rmse:0.537206\ttrain-rmse:0.301322\n",
      "[61]\teval-rmse:0.535458\ttrain-rmse:0.295714\n",
      "[62]\teval-rmse:0.535359\ttrain-rmse:0.294904\n",
      "[63]\teval-rmse:0.535351\ttrain-rmse:0.293148\n",
      "[64]\teval-rmse:0.53654\ttrain-rmse:0.289378\n",
      "[65]\teval-rmse:0.536911\ttrain-rmse:0.287637\n",
      "[66]\teval-rmse:0.536349\ttrain-rmse:0.283147\n",
      "[67]\teval-rmse:0.535428\ttrain-rmse:0.28027\n",
      "[68]\teval-rmse:0.534107\ttrain-rmse:0.278074\n",
      "[69]\teval-rmse:0.533652\ttrain-rmse:0.276721\n",
      "[70]\teval-rmse:0.534634\ttrain-rmse:0.273632\n",
      "[71]\teval-rmse:0.534712\ttrain-rmse:0.270807\n",
      "[72]\teval-rmse:0.534344\ttrain-rmse:0.269467\n",
      "[73]\teval-rmse:0.533332\ttrain-rmse:0.2638\n",
      "[74]\teval-rmse:0.533054\ttrain-rmse:0.261671\n",
      "[75]\teval-rmse:0.532768\ttrain-rmse:0.259448\n",
      "[76]\teval-rmse:0.531993\ttrain-rmse:0.254784\n",
      "[77]\teval-rmse:0.531576\ttrain-rmse:0.252587\n",
      "[78]\teval-rmse:0.532214\ttrain-rmse:0.247759\n",
      "[79]\teval-rmse:0.532609\ttrain-rmse:0.244158\n",
      "[80]\teval-rmse:0.532384\ttrain-rmse:0.243841\n",
      "[81]\teval-rmse:0.532647\ttrain-rmse:0.240056\n",
      "[82]\teval-rmse:0.532224\ttrain-rmse:0.23807\n",
      "[83]\teval-rmse:0.532602\ttrain-rmse:0.237013\n",
      "[84]\teval-rmse:0.53284\ttrain-rmse:0.235676\n",
      "[85]\teval-rmse:0.532315\ttrain-rmse:0.23275\n",
      "[86]\teval-rmse:0.531641\ttrain-rmse:0.230926\n",
      "[87]\teval-rmse:0.531475\ttrain-rmse:0.229592\n",
      "[88]\teval-rmse:0.530378\ttrain-rmse:0.225264\n",
      "[89]\teval-rmse:0.528831\ttrain-rmse:0.222206\n",
      "[90]\teval-rmse:0.529192\ttrain-rmse:0.221417\n",
      "[91]\teval-rmse:0.52916\ttrain-rmse:0.218441\n",
      "[92]\teval-rmse:0.528276\ttrain-rmse:0.212965\n",
      "[93]\teval-rmse:0.52935\ttrain-rmse:0.210791\n",
      "[94]\teval-rmse:0.530781\ttrain-rmse:0.210249\n",
      "[95]\teval-rmse:0.531255\ttrain-rmse:0.207262\n",
      "[96]\teval-rmse:0.530574\ttrain-rmse:0.204843\n",
      "[97]\teval-rmse:0.530312\ttrain-rmse:0.20282\n",
      "[98]\teval-rmse:0.529002\ttrain-rmse:0.200451\n",
      "[99]\teval-rmse:0.528077\ttrain-rmse:0.19728\n"
     ]
    }
   ],
   "source": [
    "subset = cleaned_joined_data[[#'sampleID',\n",
    "                   #'dateTime',\n",
    "                   'altitude',\n",
    "                    'latitude', \n",
    "                    'longitude',\n",
    "                   'speed', \n",
    "                   #'heading', \n",
    "                   'length',\n",
    "                   #'functionalClass',\n",
    "                   'fromRefSpeedLimit', \n",
    "                   #'toRefSpeedLimit', \n",
    "                   #'fromRefNumLanes', \n",
    "                   #'toRefNumLanes',\n",
    "                    #'delta_elevation',\n",
    "                    'delta_speed',\n",
    "                    'rolling_slope',\n",
    "                   'avg_link_slope']]\n",
    "\n",
    "print(subset.shape)\n",
    "import sklearn\n",
    "train, test = sklearn.cross_validation.train_test_split(subset, test_size = 0.2, random_state=1)\n",
    "\n",
    "\n",
    "dtrain = xgb.DMatrix(train.values[:,:-1], train.values[:,-1])\n",
    "dtest = xgb.DMatrix(test.values[:,:-1], test.values[:,-1])\n",
    "param = {'max_depth':5, 'eta':0.2, 'silent':1, \"objective\": \"reg:linear\", \"booster\":\"gbtree\" }\n",
    "param['nthread'] = 48\n",
    "param['eval_metric'] = 'rmse'\n",
    "evallist  = [(dtest,'eval'), (dtrain,'train')]\n",
    "num_round = 100\n",
    "bst = xgb.train( param, dtrain, num_round, evallist, early_stopping_rounds=10)\n"
   ]
  },
  {
   "cell_type": "code",
   "execution_count": 16,
   "metadata": {
    "collapsed": false
   },
   "outputs": [
    {
     "data": {
      "text/plain": [
       "<matplotlib.axes._subplots.AxesSubplot at 0x7f2261883dd8>"
      ]
     },
     "execution_count": 16,
     "metadata": {},
     "output_type": "execute_result"
    },
    {
     "data": {
      "image/png": "[encoded data removed]",
      "text/plain": [
       "<matplotlib.figure.Figure at 0x7f226e03c048>"
      ]
     },
     "metadata": {},
     "output_type": "display_data"
    }
   ],
   "source": [
    "xgb.plot_importance(bst)"
   ]
  },
  {
   "cell_type": "code",
   "execution_count": 17,
   "metadata": {
    "collapsed": false
   },
   "outputs": [
    {
     "name": "stderr",
     "output_type": "stream",
     "text": [
      "/home/ec2-user/anaconda3/lib/python3.6/site-packages/ipykernel/__main__.py:3: SettingWithCopyWarning: \n",
      "A value is trying to be set on a copy of a slice from a DataFrame.\n",
      "Try using .loc[row_indexer,col_indexer] = value instead\n",
      "\n",
      "See the caveats in the documentation: http://pandas.pydata.org/pandas-docs/stable/indexing.html#indexing-view-versus-copy\n",
      "  app.launch_new_instance()\n"
     ]
    },
    {
     "data": {
      "image/png": "[encoded data removed]",
      "text/plain": [
       "<matplotlib.figure.Figure at 0x7f225ecb2f60>"
      ]
     },
     "metadata": {},
     "output_type": "display_data"
    }
   ],
   "source": [
    "preds = bst.predict(dtest)\n",
    "zipped_preds = test\n",
    "zipped_preds['preds'] = preds\n",
    "\n",
    "plt.figure()\n",
    "plt.scatter(zipped_preds['avg_link_slope'], zipped_preds['preds'])\n",
    "plt.xlabel('avg link slope')\n",
    "plt.ylabel('predicted link slope')\n",
    "plt.show()"
   ]
  },
  {
   "cell_type": "code",
   "execution_count": null,
   "metadata": {
    "collapsed": true
   },
   "outputs": [],
   "source": []
  }
 ],
 "metadata": {
  "kernelspec": {
   "display_name": "Python 3",
   "language": "python",
   "name": "python3"
  },
  "language_info": {
   "codemirror_mode": {
    "name": "ipython",
    "version": 3
   },
   "file_extension": ".py",
   "mimetype": "text/x-python",
   "name": "python",
   "nbconvert_exporter": "python",
   "pygments_lexer": "ipython3",
   "version": "3.6.0"
  }
 },
 "nbformat": 4,
 "nbformat_minor": 2
}

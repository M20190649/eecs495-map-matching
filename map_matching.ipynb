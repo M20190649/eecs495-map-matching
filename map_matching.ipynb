{
 "cells": [
  {
   "cell_type": "markdown",
   "metadata": {},
   "source": [
    "# Probe Data - Map Matching\n",
    "## Nick Paras | Kapil Garg\n",
    "\n",
    "### Assignment 2\n",
    "\n",
    "Input: Probe data and map [probe_data_map_matching.rar](https://canvas.northwestern.edu/courses/51440/files/3334329/download?wrap=1)\n",
    "\n",
    "-The raw probe points in Germany collected in 9 months\n",
    "\n",
    "-The link data for the links that probe points can be map-matched to.\n",
    "\n",
    "Tasks:\n",
    "-- map match probe points to road links\n",
    "\n",
    "-- derive road slope for each road link\n",
    "\n",
    "-- evaluate the derived road slope with the surveyed road slope in the link data file\n",
    "\n",
    "**Please submit your code and slides presentation of your approach and results including evaluation comparing with the slopes in the link data file**"
   ]
  },
  {
   "cell_type": "markdown",
   "metadata": {},
   "source": [
    "### Setup\n",
    "\n",
    "We use **Python 3.6** and rely on the dependencies:\n",
    "* numpy\n",
    "* scikit-learn\n",
    "* matplotlib\n",
    "* pandas\n",
    "\n",
    "We also use Jupyter Notebooks for our code and reports. For quick setup, please create a conda environment with the following:\n",
    "\n",
    "    $ conda create --name probe-data pandas matplotlib numpy scikit-learn\n",
    "\n",
    "and then activate the conda environment with\n",
    "\n",
    "    $ source activate probe-data\n"
   ]
  },
  {
   "cell_type": "code",
   "execution_count": 12,
   "metadata": {
    "collapsed": false
   },
   "outputs": [],
   "source": [
    "# Imports\n",
    "import os\n",
    "\n",
    "import numpy as np\n",
    "import matplotlib.pyplot as plt\n",
    "import pandas as pd\n",
    "\n",
    "from datetime import datetime\n",
    "\n",
    "%matplotlib inline\n",
    "\n",
    "# Constants\n",
    "DATA_DIR = \"probe_data_map_matching\""
   ]
  },
  {
   "cell_type": "markdown",
   "metadata": {},
   "source": [
    "## Loading Probe Data for Map Matching\n",
    "\n",
    "Here we'll load our data from the two csv's into Pandas DataFrames."
   ]
  },
  {
   "cell_type": "code",
   "execution_count": 13,
   "metadata": {
    "collapsed": false
   },
   "outputs": [],
   "source": [
    "probe_headers = [\"sampleID\", \n",
    "                 \"dateTime\", \n",
    "                 \"sourceCode\", \n",
    "                 \"latitude\", \n",
    "                 \"longitude\", \n",
    "                 \"altitude\", \n",
    "                 \"speed\", \n",
    "                 \"heading\"]\n",
    "\n",
    "probe_data = pd.read_csv(os.path.join(DATA_DIR, \"Partition6467ProbePoints.csv\"), header=None, names=probe_headers)"
   ]
  },
  {
   "cell_type": "code",
   "execution_count": 61,
   "metadata": {
    "collapsed": true
   },
   "outputs": [],
   "source": [
    "probe_data['dateTime'] = pd.to_datetime(probe_data['dateTime'])"
   ]
  },
  {
   "cell_type": "code",
   "execution_count": 14,
   "metadata": {
    "collapsed": false
   },
   "outputs": [
    {
     "data": {
      "text/html": [
       "<div>\n",
       "<table border=\"1\" class=\"dataframe\">\n",
       "  <thead>\n",
       "    <tr style=\"text-align: right;\">\n",
       "      <th></th>\n",
       "      <th>sampleID</th>\n",
       "      <th>dateTime</th>\n",
       "      <th>sourceCode</th>\n",
       "      <th>latitude</th>\n",
       "      <th>longitude</th>\n",
       "      <th>altitude</th>\n",
       "      <th>speed</th>\n",
       "      <th>heading</th>\n",
       "    </tr>\n",
       "  </thead>\n",
       "  <tbody>\n",
       "    <tr>\n",
       "      <th>0</th>\n",
       "      <td>3496</td>\n",
       "      <td>6/12/2009 6:12:49 AM</td>\n",
       "      <td>13</td>\n",
       "      <td>51.496868</td>\n",
       "      <td>9.386022</td>\n",
       "      <td>200</td>\n",
       "      <td>23</td>\n",
       "      <td>339</td>\n",
       "    </tr>\n",
       "    <tr>\n",
       "      <th>1</th>\n",
       "      <td>3496</td>\n",
       "      <td>6/12/2009 6:12:54 AM</td>\n",
       "      <td>13</td>\n",
       "      <td>51.496682</td>\n",
       "      <td>9.386157</td>\n",
       "      <td>200</td>\n",
       "      <td>10</td>\n",
       "      <td>129</td>\n",
       "    </tr>\n",
       "    <tr>\n",
       "      <th>2</th>\n",
       "      <td>3496</td>\n",
       "      <td>6/12/2009 6:12:59 AM</td>\n",
       "      <td>13</td>\n",
       "      <td>51.496705</td>\n",
       "      <td>9.386422</td>\n",
       "      <td>201</td>\n",
       "      <td>21</td>\n",
       "      <td>60</td>\n",
       "    </tr>\n",
       "    <tr>\n",
       "      <th>3</th>\n",
       "      <td>3496</td>\n",
       "      <td>6/12/2009 6:13:04 AM</td>\n",
       "      <td>13</td>\n",
       "      <td>51.496749</td>\n",
       "      <td>9.386840</td>\n",
       "      <td>201</td>\n",
       "      <td>0</td>\n",
       "      <td>360</td>\n",
       "    </tr>\n",
       "    <tr>\n",
       "      <th>4</th>\n",
       "      <td>3496</td>\n",
       "      <td>6/12/2009 6:13:09 AM</td>\n",
       "      <td>13</td>\n",
       "      <td>51.496864</td>\n",
       "      <td>9.387294</td>\n",
       "      <td>199</td>\n",
       "      <td>0</td>\n",
       "      <td>360</td>\n",
       "    </tr>\n",
       "  </tbody>\n",
       "</table>\n",
       "</div>"
      ],
      "text/plain": [
       "   sampleID              dateTime  sourceCode   latitude  longitude  altitude  \\\n",
       "0      3496  6/12/2009 6:12:49 AM          13  51.496868   9.386022       200   \n",
       "1      3496  6/12/2009 6:12:54 AM          13  51.496682   9.386157       200   \n",
       "2      3496  6/12/2009 6:12:59 AM          13  51.496705   9.386422       201   \n",
       "3      3496  6/12/2009 6:13:04 AM          13  51.496749   9.386840       201   \n",
       "4      3496  6/12/2009 6:13:09 AM          13  51.496864   9.387294       199   \n",
       "\n",
       "   speed  heading  \n",
       "0     23      339  \n",
       "1     10      129  \n",
       "2     21       60  \n",
       "3      0      360  \n",
       "4      0      360  "
      ]
     },
     "execution_count": 14,
     "metadata": {},
     "output_type": "execute_result"
    }
   ],
   "source": [
    "probe_data.head()"
   ]
  },
  {
   "cell_type": "code",
   "execution_count": 15,
   "metadata": {
    "collapsed": true
   },
   "outputs": [],
   "source": [
    "link_headers = [\"linkPVID\", \n",
    "                \"refNodeID\", \n",
    "                \"nrefNodeID\", \n",
    "                \"length\", \n",
    "                \"functionalClass\", \n",
    "                \"directionOfTravel\", \n",
    "                \"speedCategory\", \n",
    "                \"fromRefSpeedLimit\", \n",
    "                \"toRefSpeedLimit\", \n",
    "                \"fromRefNumLanes\", \n",
    "                \"toRefNumLanes\", \n",
    "                \"multiDigitized\", \n",
    "                \"urban\", \n",
    "                \"timeZone\", \n",
    "                \"shapeInfo\", \n",
    "                \"curvatureInfo\", \n",
    "                \"slopeInfo\"]\n",
    "\n",
    "link_data = pd.read_csv(os.path.join(DATA_DIR, \"Partition6467LinkData.csv\"), header=None, names=link_headers)"
   ]
  },
  {
   "cell_type": "code",
   "execution_count": 16,
   "metadata": {
    "collapsed": false
   },
   "outputs": [
    {
     "data": {
      "text/html": [
       "<div>\n",
       "<table border=\"1\" class=\"dataframe\">\n",
       "  <thead>\n",
       "    <tr style=\"text-align: right;\">\n",
       "      <th></th>\n",
       "      <th>linkPVID</th>\n",
       "      <th>refNodeID</th>\n",
       "      <th>nrefNodeID</th>\n",
       "      <th>length</th>\n",
       "      <th>functionalClass</th>\n",
       "      <th>directionOfTravel</th>\n",
       "      <th>speedCategory</th>\n",
       "      <th>fromRefSpeedLimit</th>\n",
       "      <th>toRefSpeedLimit</th>\n",
       "      <th>fromRefNumLanes</th>\n",
       "      <th>toRefNumLanes</th>\n",
       "      <th>multiDigitized</th>\n",
       "      <th>urban</th>\n",
       "      <th>timeZone</th>\n",
       "      <th>shapeInfo</th>\n",
       "      <th>curvatureInfo</th>\n",
       "      <th>slopeInfo</th>\n",
       "    </tr>\n",
       "  </thead>\n",
       "  <tbody>\n",
       "    <tr>\n",
       "      <th>0</th>\n",
       "      <td>62007637</td>\n",
       "      <td>162844982</td>\n",
       "      <td>162809070</td>\n",
       "      <td>335.04</td>\n",
       "      <td>5</td>\n",
       "      <td>B</td>\n",
       "      <td>7</td>\n",
       "      <td>30</td>\n",
       "      <td>30</td>\n",
       "      <td>0</td>\n",
       "      <td>0</td>\n",
       "      <td>F</td>\n",
       "      <td>T</td>\n",
       "      <td>0.0</td>\n",
       "      <td>51.4965800/9.3862299/|51.4994700/9.3848799/</td>\n",
       "      <td>NaN</td>\n",
       "      <td>NaN</td>\n",
       "    </tr>\n",
       "    <tr>\n",
       "      <th>1</th>\n",
       "      <td>567329767</td>\n",
       "      <td>162844982</td>\n",
       "      <td>162981512</td>\n",
       "      <td>134.56</td>\n",
       "      <td>5</td>\n",
       "      <td>B</td>\n",
       "      <td>7</td>\n",
       "      <td>0</td>\n",
       "      <td>0</td>\n",
       "      <td>0</td>\n",
       "      <td>0</td>\n",
       "      <td>F</td>\n",
       "      <td>T</td>\n",
       "      <td>0.0</td>\n",
       "      <td>51.4965800/9.3862299/|51.4966899/9.3867100/|51...</td>\n",
       "      <td>NaN</td>\n",
       "      <td>NaN</td>\n",
       "    </tr>\n",
       "    <tr>\n",
       "      <th>2</th>\n",
       "      <td>62007648</td>\n",
       "      <td>162877732</td>\n",
       "      <td>162844982</td>\n",
       "      <td>97.01</td>\n",
       "      <td>5</td>\n",
       "      <td>B</td>\n",
       "      <td>7</td>\n",
       "      <td>30</td>\n",
       "      <td>30</td>\n",
       "      <td>0</td>\n",
       "      <td>0</td>\n",
       "      <td>F</td>\n",
       "      <td>T</td>\n",
       "      <td>0.0</td>\n",
       "      <td>51.4962899/9.3849100/|51.4965800/9.3862299/</td>\n",
       "      <td>NaN</td>\n",
       "      <td>NaN</td>\n",
       "    </tr>\n",
       "    <tr>\n",
       "      <th>3</th>\n",
       "      <td>78670326</td>\n",
       "      <td>162877732</td>\n",
       "      <td>163152693</td>\n",
       "      <td>314.84</td>\n",
       "      <td>5</td>\n",
       "      <td>B</td>\n",
       "      <td>7</td>\n",
       "      <td>30</td>\n",
       "      <td>30</td>\n",
       "      <td>0</td>\n",
       "      <td>0</td>\n",
       "      <td>F</td>\n",
       "      <td>T</td>\n",
       "      <td>0.0</td>\n",
       "      <td>51.4962899/9.3849100/|51.4990000/9.3836099/</td>\n",
       "      <td>NaN</td>\n",
       "      <td>NaN</td>\n",
       "    </tr>\n",
       "    <tr>\n",
       "      <th>4</th>\n",
       "      <td>51881672</td>\n",
       "      <td>174713859</td>\n",
       "      <td>174587951</td>\n",
       "      <td>110.17</td>\n",
       "      <td>3</td>\n",
       "      <td>B</td>\n",
       "      <td>6</td>\n",
       "      <td>50</td>\n",
       "      <td>50</td>\n",
       "      <td>2</td>\n",
       "      <td>2</td>\n",
       "      <td>F</td>\n",
       "      <td>T</td>\n",
       "      <td>0.0</td>\n",
       "      <td>53.0643099/8.7903400/45.79|53.0650299/8.791470...</td>\n",
       "      <td>NaN</td>\n",
       "      <td>0.00/-0.090|110.17/0.062</td>\n",
       "    </tr>\n",
       "  </tbody>\n",
       "</table>\n",
       "</div>"
      ],
      "text/plain": [
       "    linkPVID  refNodeID  nrefNodeID  length  functionalClass  \\\n",
       "0   62007637  162844982   162809070  335.04                5   \n",
       "1  567329767  162844982   162981512  134.56                5   \n",
       "2   62007648  162877732   162844982   97.01                5   \n",
       "3   78670326  162877732   163152693  314.84                5   \n",
       "4   51881672  174713859   174587951  110.17                3   \n",
       "\n",
       "  directionOfTravel  speedCategory  fromRefSpeedLimit  toRefSpeedLimit  \\\n",
       "0                 B              7                 30               30   \n",
       "1                 B              7                  0                0   \n",
       "2                 B              7                 30               30   \n",
       "3                 B              7                 30               30   \n",
       "4                 B              6                 50               50   \n",
       "\n",
       "   fromRefNumLanes  toRefNumLanes multiDigitized urban  timeZone  \\\n",
       "0                0              0              F     T       0.0   \n",
       "1                0              0              F     T       0.0   \n",
       "2                0              0              F     T       0.0   \n",
       "3                0              0              F     T       0.0   \n",
       "4                2              2              F     T       0.0   \n",
       "\n",
       "                                           shapeInfo curvatureInfo  \\\n",
       "0        51.4965800/9.3862299/|51.4994700/9.3848799/           NaN   \n",
       "1  51.4965800/9.3862299/|51.4966899/9.3867100/|51...           NaN   \n",
       "2        51.4962899/9.3849100/|51.4965800/9.3862299/           NaN   \n",
       "3        51.4962899/9.3849100/|51.4990000/9.3836099/           NaN   \n",
       "4  53.0643099/8.7903400/45.79|53.0650299/8.791470...           NaN   \n",
       "\n",
       "                  slopeInfo  \n",
       "0                       NaN  \n",
       "1                       NaN  \n",
       "2                       NaN  \n",
       "3                       NaN  \n",
       "4  0.00/-0.090|110.17/0.062  "
      ]
     },
     "execution_count": 16,
     "metadata": {},
     "output_type": "execute_result"
    }
   ],
   "source": [
    "link_data.head()"
   ]
  },
  {
   "cell_type": "markdown",
   "metadata": {},
   "source": [
    "#### Initial Observations\n",
    "\n",
    "As can be seen in the first 4 rows of `link_data`, there are missing values in the data. More specifically, we can see right away that `curvatureInfo` and `slopeInfo` are missing from some rows. After checking the `README`, we confirm that this is expected."
   ]
  },
  {
   "cell_type": "markdown",
   "metadata": {
    "collapsed": true
   },
   "source": [
    "### Exploratory Data Analysis"
   ]
  },
  {
   "cell_type": "markdown",
   "metadata": {},
   "source": [
    "#### Number of Points per Trajectory, Sample Rate, etc.\n",
    "\n",
    "We know from the literature that the sample rate and/or number of points per trajectory can have a big impact on the quality of our matching, and should therefore inform our choice of algorithm."
   ]
  },
  {
   "cell_type": "code",
   "execution_count": 65,
   "metadata": {
    "collapsed": false
   },
   "outputs": [],
   "source": [
    "sample_sizes = probe_data.groupby(['sampleID'])['dateTime'].size()"
   ]
  },
  {
   "cell_type": "code",
   "execution_count": 66,
   "metadata": {
    "collapsed": false
   },
   "outputs": [
    {
     "data": {
      "text/plain": [
       "75840"
      ]
     },
     "execution_count": 66,
     "metadata": {},
     "output_type": "execute_result"
    }
   ],
   "source": [
    "len(sample_sizes)"
   ]
  },
  {
   "cell_type": "markdown",
   "metadata": {},
   "source": [
    "So, there are 75840 unique trajectories."
   ]
  },
  {
   "cell_type": "code",
   "execution_count": 67,
   "metadata": {
    "collapsed": false
   },
   "outputs": [
    {
     "data": {
      "text/plain": [
       "<matplotlib.axes._subplots.AxesSubplot at 0x14ad232e8>"
      ]
     },
     "execution_count": 67,
     "metadata": {},
     "output_type": "execute_result"
    },
    {
     "data": {
      "image/png": "[encoded data removed]",
      "text/plain": [
       "<matplotlib.figure.Figure at 0x115557d68>"
      ]
     },
     "metadata": {},
     "output_type": "display_data"
    }
   ],
   "source": [
    "sample_sizes.hist()"
   ]
  },
  {
   "cell_type": "markdown",
   "metadata": {},
   "source": [
    "And, it appears that most of them have fewer than 100 sample points, although there are some that have quite a bit more."
   ]
  },
  {
   "cell_type": "markdown",
   "metadata": {},
   "source": [
    "Now we want to find the sampling rate of the points."
   ]
  },
  {
   "cell_type": "code",
   "execution_count": 68,
   "metadata": {
    "collapsed": true
   },
   "outputs": [],
   "source": [
    "sampling_rates = probe_data.groupby(['sampleID'])"
   ]
  },
  {
   "cell_type": "code",
   "execution_count": 69,
   "metadata": {
    "collapsed": false
   },
   "outputs": [],
   "source": [
    "date_bounds = sampling_rates['dateTime'].agg({'date_min': min,\n",
    "                                              'date_max': max})\n",
    "\n",
    "num_samples = sampling_rates['dateTime'].size()"
   ]
  },
  {
   "cell_type": "code",
   "execution_count": 70,
   "metadata": {
    "collapsed": false
   },
   "outputs": [
    {
     "data": {
      "text/html": [
       "<div>\n",
       "<table border=\"1\" class=\"dataframe\">\n",
       "  <thead>\n",
       "    <tr style=\"text-align: right;\">\n",
       "      <th></th>\n",
       "      <th>date_max</th>\n",
       "      <th>date_min</th>\n",
       "    </tr>\n",
       "    <tr>\n",
       "      <th>sampleID</th>\n",
       "      <th></th>\n",
       "      <th></th>\n",
       "    </tr>\n",
       "  </thead>\n",
       "  <tbody>\n",
       "    <tr>\n",
       "      <th>3496</th>\n",
       "      <td>2009-06-12 06:18:11</td>\n",
       "      <td>2009-06-12 06:12:49</td>\n",
       "    </tr>\n",
       "    <tr>\n",
       "      <th>4552</th>\n",
       "      <td>2009-06-13 11:52:26</td>\n",
       "      <td>2009-06-13 11:47:18</td>\n",
       "    </tr>\n",
       "    <tr>\n",
       "      <th>4553</th>\n",
       "      <td>2009-06-13 11:46:13</td>\n",
       "      <td>2009-06-13 11:41:05</td>\n",
       "    </tr>\n",
       "    <tr>\n",
       "      <th>4554</th>\n",
       "      <td>2009-06-13 11:40:00</td>\n",
       "      <td>2009-06-13 11:34:54</td>\n",
       "    </tr>\n",
       "    <tr>\n",
       "      <th>4555</th>\n",
       "      <td>2009-06-13 08:37:35</td>\n",
       "      <td>2009-06-13 08:32:26</td>\n",
       "    </tr>\n",
       "  </tbody>\n",
       "</table>\n",
       "</div>"
      ],
      "text/plain": [
       "                    date_max            date_min\n",
       "sampleID                                        \n",
       "3496     2009-06-12 06:18:11 2009-06-12 06:12:49\n",
       "4552     2009-06-13 11:52:26 2009-06-13 11:47:18\n",
       "4553     2009-06-13 11:46:13 2009-06-13 11:41:05\n",
       "4554     2009-06-13 11:40:00 2009-06-13 11:34:54\n",
       "4555     2009-06-13 08:37:35 2009-06-13 08:32:26"
      ]
     },
     "execution_count": 70,
     "metadata": {},
     "output_type": "execute_result"
    }
   ],
   "source": [
    "date_bounds.head()"
   ]
  },
  {
   "cell_type": "code",
   "execution_count": 71,
   "metadata": {
    "collapsed": false
   },
   "outputs": [
    {
     "data": {
      "text/plain": [
       "sampleID\n",
       "3496    189\n",
       "4552    186\n",
       "4553    186\n",
       "4554    186\n",
       "4555    186\n",
       "dtype: int64"
      ]
     },
     "execution_count": 71,
     "metadata": {},
     "output_type": "execute_result"
    }
   ],
   "source": [
    "num_samples.head()"
   ]
  },
  {
   "cell_type": "code",
   "execution_count": 72,
   "metadata": {
    "collapsed": false
   },
   "outputs": [],
   "source": [
    "combined = date_bounds\n",
    "combined['num_samples'] = num_samples"
   ]
  },
  {
   "cell_type": "code",
   "execution_count": 76,
   "metadata": {
    "collapsed": false
   },
   "outputs": [
    {
     "data": {
      "text/html": [
       "<div>\n",
       "<table border=\"1\" class=\"dataframe\">\n",
       "  <thead>\n",
       "    <tr style=\"text-align: right;\">\n",
       "      <th></th>\n",
       "      <th>date_max</th>\n",
       "      <th>date_min</th>\n",
       "      <th>num_samples</th>\n",
       "    </tr>\n",
       "    <tr>\n",
       "      <th>sampleID</th>\n",
       "      <th></th>\n",
       "      <th></th>\n",
       "      <th></th>\n",
       "    </tr>\n",
       "  </thead>\n",
       "  <tbody>\n",
       "    <tr>\n",
       "      <th>3496</th>\n",
       "      <td>2009-06-12 06:18:11</td>\n",
       "      <td>2009-06-12 06:12:49</td>\n",
       "      <td>189</td>\n",
       "    </tr>\n",
       "    <tr>\n",
       "      <th>4552</th>\n",
       "      <td>2009-06-13 11:52:26</td>\n",
       "      <td>2009-06-13 11:47:18</td>\n",
       "      <td>186</td>\n",
       "    </tr>\n",
       "    <tr>\n",
       "      <th>4553</th>\n",
       "      <td>2009-06-13 11:46:13</td>\n",
       "      <td>2009-06-13 11:41:05</td>\n",
       "      <td>186</td>\n",
       "    </tr>\n",
       "    <tr>\n",
       "      <th>4554</th>\n",
       "      <td>2009-06-13 11:40:00</td>\n",
       "      <td>2009-06-13 11:34:54</td>\n",
       "      <td>186</td>\n",
       "    </tr>\n",
       "    <tr>\n",
       "      <th>4555</th>\n",
       "      <td>2009-06-13 08:37:35</td>\n",
       "      <td>2009-06-13 08:32:26</td>\n",
       "      <td>186</td>\n",
       "    </tr>\n",
       "  </tbody>\n",
       "</table>\n",
       "</div>"
      ],
      "text/plain": [
       "                    date_max            date_min  num_samples\n",
       "sampleID                                                     \n",
       "3496     2009-06-12 06:18:11 2009-06-12 06:12:49          189\n",
       "4552     2009-06-13 11:52:26 2009-06-13 11:47:18          186\n",
       "4553     2009-06-13 11:46:13 2009-06-13 11:41:05          186\n",
       "4554     2009-06-13 11:40:00 2009-06-13 11:34:54          186\n",
       "4555     2009-06-13 08:37:35 2009-06-13 08:32:26          186"
      ]
     },
     "execution_count": 76,
     "metadata": {},
     "output_type": "execute_result"
    }
   ],
   "source": [
    "combined.head()"
   ]
  },
  {
   "cell_type": "code",
   "execution_count": 100,
   "metadata": {
    "collapsed": false
   },
   "outputs": [],
   "source": [
    "combined['time_diff'] = combined['date_max'] - combined['date_min']"
   ]
  },
  {
   "cell_type": "code",
   "execution_count": 102,
   "metadata": {
    "collapsed": false
   },
   "outputs": [],
   "source": [
    "combined['time_diff'] = combined['time_diff'].apply(lambda x: x.seconds / 60.0)"
   ]
  },
  {
   "cell_type": "code",
   "execution_count": 103,
   "metadata": {
    "collapsed": false
   },
   "outputs": [],
   "source": [
    "combined['sample_rate'] = combined['num_samples']/(combined['time_diff'] + 0.00001)"
   ]
  },
  {
   "cell_type": "code",
   "execution_count": 106,
   "metadata": {
    "collapsed": false
   },
   "outputs": [
    {
     "data": {
      "text/plain": [
       "<matplotlib.axes._subplots.AxesSubplot at 0x122c2cdd8>"
      ]
     },
     "execution_count": 106,
     "metadata": {},
     "output_type": "execute_result"
    },
    {
     "data": {
      "image/png": "[encoded data removed]",
      "text/plain": [
       "<matplotlib.figure.Figure at 0x1205161d0>"
      ]
     },
     "metadata": {},
     "output_type": "display_data"
    }
   ],
   "source": [
    "combined['sample_rate'].hist(range=(0,20))"
   ]
  },
  {
   "cell_type": "markdown",
   "metadata": {},
   "source": [
    "So, we can see that most of the trajectories are sampled between 3 and 15 Hz."
   ]
  },
  {
   "cell_type": "markdown",
   "metadata": {},
   "source": [
    "## Simple Point-to-Curve Matching\n",
    "\n",
    "First, we start with the simplest possible method, _point-to-curve_. We know from the literature that this method (and other simple techniques) is/are highly sensitive to outliers. Therefore, we start with this method more to establish our data pipeline rather than out of expectation of a final solution."
   ]
  },
  {
   "cell_type": "code",
   "execution_count": 17,
   "metadata": {
    "collapsed": false
   },
   "outputs": [
    {
     "data": {
      "text/html": [
       "<div>\n",
       "<table border=\"1\" class=\"dataframe\">\n",
       "  <thead>\n",
       "    <tr style=\"text-align: right;\">\n",
       "      <th></th>\n",
       "      <th>sampleID</th>\n",
       "      <th>dateTime</th>\n",
       "      <th>sourceCode</th>\n",
       "      <th>latitude</th>\n",
       "      <th>longitude</th>\n",
       "      <th>altitude</th>\n",
       "      <th>speed</th>\n",
       "      <th>heading</th>\n",
       "    </tr>\n",
       "  </thead>\n",
       "  <tbody>\n",
       "    <tr>\n",
       "      <th>0</th>\n",
       "      <td>3496</td>\n",
       "      <td>6/12/2009 6:12:49 AM</td>\n",
       "      <td>13</td>\n",
       "      <td>51.496868</td>\n",
       "      <td>9.386022</td>\n",
       "      <td>200</td>\n",
       "      <td>23</td>\n",
       "      <td>339</td>\n",
       "    </tr>\n",
       "    <tr>\n",
       "      <th>1</th>\n",
       "      <td>3496</td>\n",
       "      <td>6/12/2009 6:12:54 AM</td>\n",
       "      <td>13</td>\n",
       "      <td>51.496682</td>\n",
       "      <td>9.386157</td>\n",
       "      <td>200</td>\n",
       "      <td>10</td>\n",
       "      <td>129</td>\n",
       "    </tr>\n",
       "    <tr>\n",
       "      <th>2</th>\n",
       "      <td>3496</td>\n",
       "      <td>6/12/2009 6:12:59 AM</td>\n",
       "      <td>13</td>\n",
       "      <td>51.496705</td>\n",
       "      <td>9.386422</td>\n",
       "      <td>201</td>\n",
       "      <td>21</td>\n",
       "      <td>60</td>\n",
       "    </tr>\n",
       "    <tr>\n",
       "      <th>3</th>\n",
       "      <td>3496</td>\n",
       "      <td>6/12/2009 6:13:04 AM</td>\n",
       "      <td>13</td>\n",
       "      <td>51.496749</td>\n",
       "      <td>9.386840</td>\n",
       "      <td>201</td>\n",
       "      <td>0</td>\n",
       "      <td>360</td>\n",
       "    </tr>\n",
       "    <tr>\n",
       "      <th>4</th>\n",
       "      <td>3496</td>\n",
       "      <td>6/12/2009 6:13:09 AM</td>\n",
       "      <td>13</td>\n",
       "      <td>51.496864</td>\n",
       "      <td>9.387294</td>\n",
       "      <td>199</td>\n",
       "      <td>0</td>\n",
       "      <td>360</td>\n",
       "    </tr>\n",
       "  </tbody>\n",
       "</table>\n",
       "</div>"
      ],
      "text/plain": [
       "   sampleID              dateTime  sourceCode   latitude  longitude  altitude  \\\n",
       "0      3496  6/12/2009 6:12:49 AM          13  51.496868   9.386022       200   \n",
       "1      3496  6/12/2009 6:12:54 AM          13  51.496682   9.386157       200   \n",
       "2      3496  6/12/2009 6:12:59 AM          13  51.496705   9.386422       201   \n",
       "3      3496  6/12/2009 6:13:04 AM          13  51.496749   9.386840       201   \n",
       "4      3496  6/12/2009 6:13:09 AM          13  51.496864   9.387294       199   \n",
       "\n",
       "   speed  heading  \n",
       "0     23      339  \n",
       "1     10      129  \n",
       "2     21       60  \n",
       "3      0      360  \n",
       "4      0      360  "
      ]
     },
     "execution_count": 17,
     "metadata": {},
     "output_type": "execute_result"
    }
   ],
   "source": [
    "probe_data.head()"
   ]
  },
  {
   "cell_type": "code",
   "execution_count": 41,
   "metadata": {
    "collapsed": false
   },
   "outputs": [
    {
     "data": {
      "text/html": [
       "<div>\n",
       "<table border=\"1\" class=\"dataframe\">\n",
       "  <thead>\n",
       "    <tr style=\"text-align: right;\">\n",
       "      <th></th>\n",
       "      <th>sampleID</th>\n",
       "      <th>dateTime</th>\n",
       "      <th>sourceCode</th>\n",
       "      <th>latitude</th>\n",
       "      <th>longitude</th>\n",
       "      <th>altitude</th>\n",
       "      <th>speed</th>\n",
       "      <th>heading</th>\n",
       "    </tr>\n",
       "  </thead>\n",
       "  <tbody>\n",
       "    <tr>\n",
       "      <th>3375740</th>\n",
       "      <td>5840319</td>\n",
       "      <td>3/1/2010 5:55:35 AM</td>\n",
       "      <td>13</td>\n",
       "      <td>52.217058</td>\n",
       "      <td>8.974134</td>\n",
       "      <td>130</td>\n",
       "      <td>100</td>\n",
       "      <td>271</td>\n",
       "    </tr>\n",
       "    <tr>\n",
       "      <th>3375741</th>\n",
       "      <td>5840319</td>\n",
       "      <td>3/1/2010 5:55:55 AM</td>\n",
       "      <td>13</td>\n",
       "      <td>52.217080</td>\n",
       "      <td>8.966073</td>\n",
       "      <td>130</td>\n",
       "      <td>101</td>\n",
       "      <td>266</td>\n",
       "    </tr>\n",
       "    <tr>\n",
       "      <th>3375742</th>\n",
       "      <td>5840319</td>\n",
       "      <td>3/1/2010 5:56:27 AM</td>\n",
       "      <td>13</td>\n",
       "      <td>52.214741</td>\n",
       "      <td>8.953245</td>\n",
       "      <td>136</td>\n",
       "      <td>104</td>\n",
       "      <td>248</td>\n",
       "    </tr>\n",
       "    <tr>\n",
       "      <th>3375743</th>\n",
       "      <td>5840319</td>\n",
       "      <td>3/1/2010 5:56:37 AM</td>\n",
       "      <td>13</td>\n",
       "      <td>52.213855</td>\n",
       "      <td>8.949234</td>\n",
       "      <td>138</td>\n",
       "      <td>105</td>\n",
       "      <td>255</td>\n",
       "    </tr>\n",
       "    <tr>\n",
       "      <th>3375744</th>\n",
       "      <td>5840319</td>\n",
       "      <td>3/1/2010 5:57:17 AM</td>\n",
       "      <td>13</td>\n",
       "      <td>52.211173</td>\n",
       "      <td>8.932944</td>\n",
       "      <td>138</td>\n",
       "      <td>106</td>\n",
       "      <td>248</td>\n",
       "    </tr>\n",
       "  </tbody>\n",
       "</table>\n",
       "</div>"
      ],
      "text/plain": [
       "         sampleID             dateTime  sourceCode   latitude  longitude  \\\n",
       "3375740   5840319  3/1/2010 5:55:35 AM          13  52.217058   8.974134   \n",
       "3375741   5840319  3/1/2010 5:55:55 AM          13  52.217080   8.966073   \n",
       "3375742   5840319  3/1/2010 5:56:27 AM          13  52.214741   8.953245   \n",
       "3375743   5840319  3/1/2010 5:56:37 AM          13  52.213855   8.949234   \n",
       "3375744   5840319  3/1/2010 5:57:17 AM          13  52.211173   8.932944   \n",
       "\n",
       "         altitude  speed  heading  \n",
       "3375740       130    100      271  \n",
       "3375741       130    101      266  \n",
       "3375742       136    104      248  \n",
       "3375743       138    105      255  \n",
       "3375744       138    106      248  "
      ]
     },
     "execution_count": 41,
     "metadata": {},
     "output_type": "execute_result"
    }
   ],
   "source": [
    "probe_data.tail()"
   ]
  },
  {
   "cell_type": "code",
   "execution_count": 18,
   "metadata": {
    "collapsed": true
   },
   "outputs": [],
   "source": [
    "trajectories = probe_data.groupby(['sampleID'])"
   ]
  },
  {
   "cell_type": "code",
   "execution_count": 19,
   "metadata": {
    "collapsed": false
   },
   "outputs": [
    {
     "data": {
      "text/html": [
       "<div>\n",
       "<table border=\"1\" class=\"dataframe\">\n",
       "  <thead>\n",
       "    <tr style=\"text-align: right;\">\n",
       "      <th></th>\n",
       "      <th>sampleID</th>\n",
       "      <th>dateTime</th>\n",
       "      <th>sourceCode</th>\n",
       "      <th>latitude</th>\n",
       "      <th>longitude</th>\n",
       "      <th>altitude</th>\n",
       "      <th>speed</th>\n",
       "      <th>heading</th>\n",
       "    </tr>\n",
       "  </thead>\n",
       "  <tbody>\n",
       "    <tr>\n",
       "      <th>0</th>\n",
       "      <td>3496</td>\n",
       "      <td>6/12/2009 6:12:49 AM</td>\n",
       "      <td>13</td>\n",
       "      <td>51.496868</td>\n",
       "      <td>9.386022</td>\n",
       "      <td>200</td>\n",
       "      <td>23</td>\n",
       "      <td>339</td>\n",
       "    </tr>\n",
       "    <tr>\n",
       "      <th>1</th>\n",
       "      <td>3496</td>\n",
       "      <td>6/12/2009 6:12:54 AM</td>\n",
       "      <td>13</td>\n",
       "      <td>51.496682</td>\n",
       "      <td>9.386157</td>\n",
       "      <td>200</td>\n",
       "      <td>10</td>\n",
       "      <td>129</td>\n",
       "    </tr>\n",
       "    <tr>\n",
       "      <th>2</th>\n",
       "      <td>3496</td>\n",
       "      <td>6/12/2009 6:12:59 AM</td>\n",
       "      <td>13</td>\n",
       "      <td>51.496705</td>\n",
       "      <td>9.386422</td>\n",
       "      <td>201</td>\n",
       "      <td>21</td>\n",
       "      <td>60</td>\n",
       "    </tr>\n",
       "    <tr>\n",
       "      <th>3</th>\n",
       "      <td>3496</td>\n",
       "      <td>6/12/2009 6:13:04 AM</td>\n",
       "      <td>13</td>\n",
       "      <td>51.496749</td>\n",
       "      <td>9.386840</td>\n",
       "      <td>201</td>\n",
       "      <td>0</td>\n",
       "      <td>360</td>\n",
       "    </tr>\n",
       "    <tr>\n",
       "      <th>4</th>\n",
       "      <td>3496</td>\n",
       "      <td>6/12/2009 6:13:09 AM</td>\n",
       "      <td>13</td>\n",
       "      <td>51.496864</td>\n",
       "      <td>9.387294</td>\n",
       "      <td>199</td>\n",
       "      <td>0</td>\n",
       "      <td>360</td>\n",
       "    </tr>\n",
       "  </tbody>\n",
       "</table>\n",
       "</div>"
      ],
      "text/plain": [
       "   sampleID              dateTime  sourceCode   latitude  longitude  altitude  \\\n",
       "0      3496  6/12/2009 6:12:49 AM          13  51.496868   9.386022       200   \n",
       "1      3496  6/12/2009 6:12:54 AM          13  51.496682   9.386157       200   \n",
       "2      3496  6/12/2009 6:12:59 AM          13  51.496705   9.386422       201   \n",
       "3      3496  6/12/2009 6:13:04 AM          13  51.496749   9.386840       201   \n",
       "4      3496  6/12/2009 6:13:09 AM          13  51.496864   9.387294       199   \n",
       "\n",
       "   speed  heading  \n",
       "0     23      339  \n",
       "1     10      129  \n",
       "2     21       60  \n",
       "3      0      360  \n",
       "4      0      360  "
      ]
     },
     "execution_count": 19,
     "metadata": {},
     "output_type": "execute_result"
    }
   ],
   "source": [
    "trajectories.get_group(3496).head()"
   ]
  },
  {
   "cell_type": "code",
   "execution_count": 20,
   "metadata": {
    "collapsed": false
   },
   "outputs": [
    {
     "data": {
      "text/html": [
       "<div>\n",
       "<table border=\"1\" class=\"dataframe\">\n",
       "  <thead>\n",
       "    <tr style=\"text-align: right;\">\n",
       "      <th></th>\n",
       "      <th>linkPVID</th>\n",
       "      <th>refNodeID</th>\n",
       "      <th>nrefNodeID</th>\n",
       "      <th>length</th>\n",
       "      <th>functionalClass</th>\n",
       "      <th>directionOfTravel</th>\n",
       "      <th>speedCategory</th>\n",
       "      <th>fromRefSpeedLimit</th>\n",
       "      <th>toRefSpeedLimit</th>\n",
       "      <th>fromRefNumLanes</th>\n",
       "      <th>toRefNumLanes</th>\n",
       "      <th>multiDigitized</th>\n",
       "      <th>urban</th>\n",
       "      <th>timeZone</th>\n",
       "      <th>shapeInfo</th>\n",
       "      <th>curvatureInfo</th>\n",
       "      <th>slopeInfo</th>\n",
       "    </tr>\n",
       "  </thead>\n",
       "  <tbody>\n",
       "    <tr>\n",
       "      <th>0</th>\n",
       "      <td>62007637</td>\n",
       "      <td>162844982</td>\n",
       "      <td>162809070</td>\n",
       "      <td>335.04</td>\n",
       "      <td>5</td>\n",
       "      <td>B</td>\n",
       "      <td>7</td>\n",
       "      <td>30</td>\n",
       "      <td>30</td>\n",
       "      <td>0</td>\n",
       "      <td>0</td>\n",
       "      <td>F</td>\n",
       "      <td>T</td>\n",
       "      <td>0.0</td>\n",
       "      <td>51.4965800/9.3862299/|51.4994700/9.3848799/</td>\n",
       "      <td>NaN</td>\n",
       "      <td>NaN</td>\n",
       "    </tr>\n",
       "    <tr>\n",
       "      <th>1</th>\n",
       "      <td>567329767</td>\n",
       "      <td>162844982</td>\n",
       "      <td>162981512</td>\n",
       "      <td>134.56</td>\n",
       "      <td>5</td>\n",
       "      <td>B</td>\n",
       "      <td>7</td>\n",
       "      <td>0</td>\n",
       "      <td>0</td>\n",
       "      <td>0</td>\n",
       "      <td>0</td>\n",
       "      <td>F</td>\n",
       "      <td>T</td>\n",
       "      <td>0.0</td>\n",
       "      <td>51.4965800/9.3862299/|51.4966899/9.3867100/|51...</td>\n",
       "      <td>NaN</td>\n",
       "      <td>NaN</td>\n",
       "    </tr>\n",
       "    <tr>\n",
       "      <th>2</th>\n",
       "      <td>62007648</td>\n",
       "      <td>162877732</td>\n",
       "      <td>162844982</td>\n",
       "      <td>97.01</td>\n",
       "      <td>5</td>\n",
       "      <td>B</td>\n",
       "      <td>7</td>\n",
       "      <td>30</td>\n",
       "      <td>30</td>\n",
       "      <td>0</td>\n",
       "      <td>0</td>\n",
       "      <td>F</td>\n",
       "      <td>T</td>\n",
       "      <td>0.0</td>\n",
       "      <td>51.4962899/9.3849100/|51.4965800/9.3862299/</td>\n",
       "      <td>NaN</td>\n",
       "      <td>NaN</td>\n",
       "    </tr>\n",
       "    <tr>\n",
       "      <th>3</th>\n",
       "      <td>78670326</td>\n",
       "      <td>162877732</td>\n",
       "      <td>163152693</td>\n",
       "      <td>314.84</td>\n",
       "      <td>5</td>\n",
       "      <td>B</td>\n",
       "      <td>7</td>\n",
       "      <td>30</td>\n",
       "      <td>30</td>\n",
       "      <td>0</td>\n",
       "      <td>0</td>\n",
       "      <td>F</td>\n",
       "      <td>T</td>\n",
       "      <td>0.0</td>\n",
       "      <td>51.4962899/9.3849100/|51.4990000/9.3836099/</td>\n",
       "      <td>NaN</td>\n",
       "      <td>NaN</td>\n",
       "    </tr>\n",
       "    <tr>\n",
       "      <th>4</th>\n",
       "      <td>51881672</td>\n",
       "      <td>174713859</td>\n",
       "      <td>174587951</td>\n",
       "      <td>110.17</td>\n",
       "      <td>3</td>\n",
       "      <td>B</td>\n",
       "      <td>6</td>\n",
       "      <td>50</td>\n",
       "      <td>50</td>\n",
       "      <td>2</td>\n",
       "      <td>2</td>\n",
       "      <td>F</td>\n",
       "      <td>T</td>\n",
       "      <td>0.0</td>\n",
       "      <td>53.0643099/8.7903400/45.79|53.0650299/8.791470...</td>\n",
       "      <td>NaN</td>\n",
       "      <td>0.00/-0.090|110.17/0.062</td>\n",
       "    </tr>\n",
       "  </tbody>\n",
       "</table>\n",
       "</div>"
      ],
      "text/plain": [
       "    linkPVID  refNodeID  nrefNodeID  length  functionalClass  \\\n",
       "0   62007637  162844982   162809070  335.04                5   \n",
       "1  567329767  162844982   162981512  134.56                5   \n",
       "2   62007648  162877732   162844982   97.01                5   \n",
       "3   78670326  162877732   163152693  314.84                5   \n",
       "4   51881672  174713859   174587951  110.17                3   \n",
       "\n",
       "  directionOfTravel  speedCategory  fromRefSpeedLimit  toRefSpeedLimit  \\\n",
       "0                 B              7                 30               30   \n",
       "1                 B              7                  0                0   \n",
       "2                 B              7                 30               30   \n",
       "3                 B              7                 30               30   \n",
       "4                 B              6                 50               50   \n",
       "\n",
       "   fromRefNumLanes  toRefNumLanes multiDigitized urban  timeZone  \\\n",
       "0                0              0              F     T       0.0   \n",
       "1                0              0              F     T       0.0   \n",
       "2                0              0              F     T       0.0   \n",
       "3                0              0              F     T       0.0   \n",
       "4                2              2              F     T       0.0   \n",
       "\n",
       "                                           shapeInfo curvatureInfo  \\\n",
       "0        51.4965800/9.3862299/|51.4994700/9.3848799/           NaN   \n",
       "1  51.4965800/9.3862299/|51.4966899/9.3867100/|51...           NaN   \n",
       "2        51.4962899/9.3849100/|51.4965800/9.3862299/           NaN   \n",
       "3        51.4962899/9.3849100/|51.4990000/9.3836099/           NaN   \n",
       "4  53.0643099/8.7903400/45.79|53.0650299/8.791470...           NaN   \n",
       "\n",
       "                  slopeInfo  \n",
       "0                       NaN  \n",
       "1                       NaN  \n",
       "2                       NaN  \n",
       "3                       NaN  \n",
       "4  0.00/-0.090|110.17/0.062  "
      ]
     },
     "execution_count": 20,
     "metadata": {},
     "output_type": "execute_result"
    }
   ],
   "source": [
    "link_data.head()"
   ]
  },
  {
   "cell_type": "code",
   "execution_count": 21,
   "metadata": {
    "collapsed": false
   },
   "outputs": [
    {
     "data": {
      "text/plain": [
       "linkPVID                                                      64988915\n",
       "refNodeID                                                    189367124\n",
       "nrefNodeID                                                   189389519\n",
       "length                                                           86.45\n",
       "functionalClass                                                      3\n",
       "directionOfTravel                                                    B\n",
       "speedCategory                                                        7\n",
       "fromRefSpeedLimit                                                   30\n",
       "toRefSpeedLimit                                                     30\n",
       "fromRefNumLanes                                                      1\n",
       "toRefNumLanes                                                        1\n",
       "multiDigitized                                                       F\n",
       "urban                                                                T\n",
       "timeZone                                                             0\n",
       "shapeInfo            51.4256599/10.0942899/|51.4257300/10.0941699/|...\n",
       "curvatureInfo                                                      NaN\n",
       "slopeInfo                                                          NaN\n",
       "Name: 345, dtype: object"
      ]
     },
     "execution_count": 21,
     "metadata": {},
     "output_type": "execute_result"
    }
   ],
   "source": [
    "link_data.loc[345]"
   ]
  },
  {
   "cell_type": "code",
   "execution_count": 22,
   "metadata": {
    "collapsed": false
   },
   "outputs": [],
   "source": [
    "from haversine import haversine"
   ]
  },
  {
   "cell_type": "code",
   "execution_count": 23,
   "metadata": {
    "collapsed": false
   },
   "outputs": [
    {
     "data": {
      "text/plain": [
       "0.011400904322461405"
      ]
     },
     "execution_count": 23,
     "metadata": {},
     "output_type": "execute_result"
    }
   ],
   "source": [
    "haversine((51.4256599, 10.0942899), (51.4257300, 10.0941699))"
   ]
  },
  {
   "cell_type": "code",
   "execution_count": 32,
   "metadata": {
    "collapsed": false
   },
   "outputs": [
    {
     "data": {
      "text/plain": [
       "[[51.4256599, 10.0942899],\n",
       " [51.42573, 10.0941699],\n",
       " [51.4257899, 10.09398],\n",
       " [51.4258899, 10.0936699],\n",
       " [51.42604, 10.0932099]]"
      ]
     },
     "execution_count": 32,
     "metadata": {},
     "output_type": "execute_result"
    }
   ],
   "source": [
    "# split the lat/lons out from the string\n",
    "[[float(x) for x in i.split('/')[:2]] for i in link_data.loc[345]['shapeInfo'].split('|')]"
   ]
  },
  {
   "cell_type": "code",
   "execution_count": 34,
   "metadata": {
    "collapsed": false
   },
   "outputs": [
    {
     "data": {
      "text/html": [
       "<div>\n",
       "<table border=\"1\" class=\"dataframe\">\n",
       "  <thead>\n",
       "    <tr style=\"text-align: right;\">\n",
       "      <th></th>\n",
       "      <th>linkPVID</th>\n",
       "      <th>shapeInfo</th>\n",
       "    </tr>\n",
       "  </thead>\n",
       "  <tbody>\n",
       "    <tr>\n",
       "      <th>0</th>\n",
       "      <td>62007637</td>\n",
       "      <td>51.4965800/9.3862299/|51.4994700/9.3848799/</td>\n",
       "    </tr>\n",
       "    <tr>\n",
       "      <th>1</th>\n",
       "      <td>567329767</td>\n",
       "      <td>51.4965800/9.3862299/|51.4966899/9.3867100/|51...</td>\n",
       "    </tr>\n",
       "    <tr>\n",
       "      <th>2</th>\n",
       "      <td>62007648</td>\n",
       "      <td>51.4962899/9.3849100/|51.4965800/9.3862299/</td>\n",
       "    </tr>\n",
       "    <tr>\n",
       "      <th>3</th>\n",
       "      <td>78670326</td>\n",
       "      <td>51.4962899/9.3849100/|51.4990000/9.3836099/</td>\n",
       "    </tr>\n",
       "    <tr>\n",
       "      <th>4</th>\n",
       "      <td>51881672</td>\n",
       "      <td>53.0643099/8.7903400/45.79|53.0650299/8.791470...</td>\n",
       "    </tr>\n",
       "  </tbody>\n",
       "</table>\n",
       "</div>"
      ],
      "text/plain": [
       "    linkPVID                                          shapeInfo\n",
       "0   62007637        51.4965800/9.3862299/|51.4994700/9.3848799/\n",
       "1  567329767  51.4965800/9.3862299/|51.4966899/9.3867100/|51...\n",
       "2   62007648        51.4962899/9.3849100/|51.4965800/9.3862299/\n",
       "3   78670326        51.4962899/9.3849100/|51.4990000/9.3836099/\n",
       "4   51881672  53.0643099/8.7903400/45.79|53.0650299/8.791470..."
      ]
     },
     "execution_count": 34,
     "metadata": {},
     "output_type": "execute_result"
    }
   ],
   "source": [
    "link_data[['linkPVID', 'shapeInfo']].head()"
   ]
  },
  {
   "cell_type": "code",
   "execution_count": 49,
   "metadata": {
    "collapsed": false
   },
   "outputs": [],
   "source": [
    "def find_closest(probe_point):\n",
    "    tmp_col = link_data[['linkPVID', 'shapeInfo']]\n",
    "    tmp_col['min_link_dist'] = tmp_col['shapeInfo'].apply(lambda x: min(haversine(probe_point, [float(j) for j in i.split('/')[:2]]) for i in x.split('|')))\n",
    "    return tmp_col.ix[tmp_col['min_link_dist'].idxmin()]['linkPVID']"
   ]
  },
  {
   "cell_type": "code",
   "execution_count": 40,
   "metadata": {
    "collapsed": false
   },
   "outputs": [
    {
     "name": "stderr",
     "output_type": "stream",
     "text": [
      "/Users/Nick/anaconda3/lib/python3.5/site-packages/ipykernel/__main__.py:3: SettingWithCopyWarning: \n",
      "A value is trying to be set on a copy of a slice from a DataFrame.\n",
      "Try using .loc[row_indexer,col_indexer] = value instead\n",
      "\n",
      "See the caveats in the documentation: http://pandas.pydata.org/pandas-docs/stable/indexing.html#indexing-view-versus-copy\n",
      "  app.launch_new_instance()\n"
     ]
    },
    {
     "data": {
      "text/plain": [
       "linkPVID                                            62007637\n",
       "shapeInfo        51.4965800/9.3862299/|51.4994700/9.3848799/\n",
       "min_link_dist                                      0.0351095\n",
       "Name: 0, dtype: object"
      ]
     },
     "execution_count": 40,
     "metadata": {},
     "output_type": "execute_result"
    }
   ],
   "source": [
    "find_closest([51.496868, 9.386022])"
   ]
  },
  {
   "cell_type": "code",
   "execution_count": 42,
   "metadata": {
    "collapsed": false
   },
   "outputs": [
    {
     "name": "stderr",
     "output_type": "stream",
     "text": [
      "/Users/Nick/anaconda3/lib/python3.5/site-packages/ipykernel/__main__.py:3: SettingWithCopyWarning: \n",
      "A value is trying to be set on a copy of a slice from a DataFrame.\n",
      "Try using .loc[row_indexer,col_indexer] = value instead\n",
      "\n",
      "See the caveats in the documentation: http://pandas.pydata.org/pandas-docs/stable/indexing.html#indexing-view-versus-copy\n",
      "  app.launch_new_instance()\n"
     ]
    },
    {
     "data": {
      "text/plain": [
       "linkPVID                                                 772026854\n",
       "shapeInfo        52.2169200/8.9831799/|52.2169699/8.9808900/|52...\n",
       "min_link_dist                                           0.00930774\n",
       "Name: 3748, dtype: object"
      ]
     },
     "execution_count": 42,
     "metadata": {},
     "output_type": "execute_result"
    }
   ],
   "source": [
    "find_closest([52.217058, 8.974134])"
   ]
  },
  {
   "cell_type": "code",
   "execution_count": 51,
   "metadata": {
    "collapsed": false
   },
   "outputs": [
    {
     "name": "stderr",
     "output_type": "stream",
     "text": [
      "/Users/Nick/anaconda3/lib/python3.5/site-packages/ipykernel/__main__.py:3: SettingWithCopyWarning: \n",
      "A value is trying to be set on a copy of a slice from a DataFrame.\n",
      "Try using .loc[row_indexer,col_indexer] = value instead\n",
      "\n",
      "See the caveats in the documentation: http://pandas.pydata.org/pandas-docs/stable/indexing.html#indexing-view-versus-copy\n",
      "  app.launch_new_instance()\n"
     ]
    },
    {
     "data": {
      "text/plain": [
       "0     62007637\n",
       "1     62007637\n",
       "2     62007637\n",
       "3    567329767\n",
       "4    567329767\n",
       "dtype: int64"
      ]
     },
     "execution_count": 51,
     "metadata": {},
     "output_type": "execute_result"
    }
   ],
   "source": [
    "probe_data[['sampleID', 'latitude', 'longitude']].head().apply(lambda x: find_closest((x[1], x[2])), axis=1)"
   ]
  },
  {
   "cell_type": "code",
   "execution_count": 52,
   "metadata": {
    "collapsed": false
   },
   "outputs": [
    {
     "name": "stderr",
     "output_type": "stream",
     "text": [
      "/Users/Nick/anaconda3/lib/python3.5/site-packages/ipykernel/__main__.py:3: SettingWithCopyWarning: \n",
      "A value is trying to be set on a copy of a slice from a DataFrame.\n",
      "Try using .loc[row_indexer,col_indexer] = value instead\n",
      "\n",
      "See the caveats in the documentation: http://pandas.pydata.org/pandas-docs/stable/indexing.html#indexing-view-versus-copy\n",
      "  app.launch_new_instance()\n"
     ]
    },
    {
     "ename": "KeyboardInterrupt",
     "evalue": "",
     "output_type": "error",
     "traceback": [
      "\u001b[0;31m---------------------------------------------------------------------------\u001b[0m",
      "\u001b[0;31mKeyboardInterrupt\u001b[0m                         Traceback (most recent call last)",
      "\u001b[0;32m<ipython-input-52-2c69776ec837>\u001b[0m in \u001b[0;36m<module>\u001b[0;34m()\u001b[0m\n\u001b[0;32m----> 1\u001b[0;31m \u001b[0mprobe_data\u001b[0m\u001b[0;34m[\u001b[0m\u001b[0;34m'pointToCurveNearest'\u001b[0m\u001b[0;34m]\u001b[0m \u001b[0;34m=\u001b[0m \u001b[0mprobe_data\u001b[0m\u001b[0;34m[\u001b[0m\u001b[0;34m[\u001b[0m\u001b[0;34m'sampleID'\u001b[0m\u001b[0;34m,\u001b[0m \u001b[0;34m'latitude'\u001b[0m\u001b[0;34m,\u001b[0m \u001b[0;34m'longitude'\u001b[0m\u001b[0;34m]\u001b[0m\u001b[0;34m]\u001b[0m\u001b[0;34m.\u001b[0m\u001b[0mapply\u001b[0m\u001b[0;34m(\u001b[0m\u001b[0;32mlambda\u001b[0m \u001b[0mx\u001b[0m\u001b[0;34m:\u001b[0m \u001b[0mfind_closest\u001b[0m\u001b[0;34m(\u001b[0m\u001b[0;34m(\u001b[0m\u001b[0mx\u001b[0m\u001b[0;34m[\u001b[0m\u001b[0;36m1\u001b[0m\u001b[0;34m]\u001b[0m\u001b[0;34m,\u001b[0m \u001b[0mx\u001b[0m\u001b[0;34m[\u001b[0m\u001b[0;36m2\u001b[0m\u001b[0;34m]\u001b[0m\u001b[0;34m)\u001b[0m\u001b[0;34m)\u001b[0m\u001b[0;34m,\u001b[0m \u001b[0maxis\u001b[0m\u001b[0;34m=\u001b[0m\u001b[0;36m1\u001b[0m\u001b[0;34m)\u001b[0m\u001b[0;34m\u001b[0m\u001b[0m\n\u001b[0m",
      "\u001b[0;32m/Users/Nick/anaconda3/lib/python3.5/site-packages/pandas/core/frame.py\u001b[0m in \u001b[0;36mapply\u001b[0;34m(self, func, axis, broadcast, raw, reduce, args, **kwds)\u001b[0m\n\u001b[1;32m   4059\u001b[0m                     \u001b[0;32mif\u001b[0m \u001b[0mreduce\u001b[0m \u001b[0;32mis\u001b[0m \u001b[0;32mNone\u001b[0m\u001b[0;34m:\u001b[0m\u001b[0;34m\u001b[0m\u001b[0m\n\u001b[1;32m   4060\u001b[0m                         \u001b[0mreduce\u001b[0m \u001b[0;34m=\u001b[0m \u001b[0;32mTrue\u001b[0m\u001b[0;34m\u001b[0m\u001b[0m\n\u001b[0;32m-> 4061\u001b[0;31m                     \u001b[0;32mreturn\u001b[0m \u001b[0mself\u001b[0m\u001b[0;34m.\u001b[0m\u001b[0m_apply_standard\u001b[0m\u001b[0;34m(\u001b[0m\u001b[0mf\u001b[0m\u001b[0;34m,\u001b[0m \u001b[0maxis\u001b[0m\u001b[0;34m,\u001b[0m \u001b[0mreduce\u001b[0m\u001b[0;34m=\u001b[0m\u001b[0mreduce\u001b[0m\u001b[0;34m)\u001b[0m\u001b[0;34m\u001b[0m\u001b[0m\n\u001b[0m\u001b[1;32m   4062\u001b[0m             \u001b[0;32melse\u001b[0m\u001b[0;34m:\u001b[0m\u001b[0;34m\u001b[0m\u001b[0m\n\u001b[1;32m   4063\u001b[0m                 \u001b[0;32mreturn\u001b[0m \u001b[0mself\u001b[0m\u001b[0;34m.\u001b[0m\u001b[0m_apply_broadcast\u001b[0m\u001b[0;34m(\u001b[0m\u001b[0mf\u001b[0m\u001b[0;34m,\u001b[0m \u001b[0maxis\u001b[0m\u001b[0;34m)\u001b[0m\u001b[0;34m\u001b[0m\u001b[0m\n",
      "\u001b[0;32m/Users/Nick/anaconda3/lib/python3.5/site-packages/pandas/core/frame.py\u001b[0m in \u001b[0;36m_apply_standard\u001b[0;34m(self, func, axis, ignore_failures, reduce)\u001b[0m\n\u001b[1;32m   4115\u001b[0m                     \u001b[0mlabels\u001b[0m \u001b[0;34m=\u001b[0m \u001b[0mself\u001b[0m\u001b[0;34m.\u001b[0m\u001b[0m_get_agg_axis\u001b[0m\u001b[0;34m(\u001b[0m\u001b[0maxis\u001b[0m\u001b[0;34m)\u001b[0m\u001b[0;34m\u001b[0m\u001b[0m\n\u001b[1;32m   4116\u001b[0m                     result = lib.reduce(values, func, axis=axis, dummy=dummy,\n\u001b[0;32m-> 4117\u001b[0;31m                                         labels=labels)\n\u001b[0m\u001b[1;32m   4118\u001b[0m                     \u001b[0;32mreturn\u001b[0m \u001b[0mSeries\u001b[0m\u001b[0;34m(\u001b[0m\u001b[0mresult\u001b[0m\u001b[0;34m,\u001b[0m \u001b[0mindex\u001b[0m\u001b[0;34m=\u001b[0m\u001b[0mlabels\u001b[0m\u001b[0;34m)\u001b[0m\u001b[0;34m\u001b[0m\u001b[0m\n\u001b[1;32m   4119\u001b[0m                 \u001b[0;32mexcept\u001b[0m \u001b[0mException\u001b[0m\u001b[0;34m:\u001b[0m\u001b[0;34m\u001b[0m\u001b[0m\n",
      "\u001b[0;32mpandas/src/reduce.pyx\u001b[0m in \u001b[0;36mpandas.lib.reduce (pandas/lib.c:43539)\u001b[0;34m()\u001b[0m\n",
      "\u001b[0;32mpandas/src/reduce.pyx\u001b[0m in \u001b[0;36mpandas.lib.Reducer.get_result (pandas/lib.c:33736)\u001b[0;34m()\u001b[0m\n",
      "\u001b[0;32m<ipython-input-52-2c69776ec837>\u001b[0m in \u001b[0;36m<lambda>\u001b[0;34m(x)\u001b[0m\n\u001b[0;32m----> 1\u001b[0;31m \u001b[0mprobe_data\u001b[0m\u001b[0;34m[\u001b[0m\u001b[0;34m'pointToCurveNearest'\u001b[0m\u001b[0;34m]\u001b[0m \u001b[0;34m=\u001b[0m \u001b[0mprobe_data\u001b[0m\u001b[0;34m[\u001b[0m\u001b[0;34m[\u001b[0m\u001b[0;34m'sampleID'\u001b[0m\u001b[0;34m,\u001b[0m \u001b[0;34m'latitude'\u001b[0m\u001b[0;34m,\u001b[0m \u001b[0;34m'longitude'\u001b[0m\u001b[0;34m]\u001b[0m\u001b[0;34m]\u001b[0m\u001b[0;34m.\u001b[0m\u001b[0mapply\u001b[0m\u001b[0;34m(\u001b[0m\u001b[0;32mlambda\u001b[0m \u001b[0mx\u001b[0m\u001b[0;34m:\u001b[0m \u001b[0mfind_closest\u001b[0m\u001b[0;34m(\u001b[0m\u001b[0;34m(\u001b[0m\u001b[0mx\u001b[0m\u001b[0;34m[\u001b[0m\u001b[0;36m1\u001b[0m\u001b[0;34m]\u001b[0m\u001b[0;34m,\u001b[0m \u001b[0mx\u001b[0m\u001b[0;34m[\u001b[0m\u001b[0;36m2\u001b[0m\u001b[0;34m]\u001b[0m\u001b[0;34m)\u001b[0m\u001b[0;34m)\u001b[0m\u001b[0;34m,\u001b[0m \u001b[0maxis\u001b[0m\u001b[0;34m=\u001b[0m\u001b[0;36m1\u001b[0m\u001b[0;34m)\u001b[0m\u001b[0;34m\u001b[0m\u001b[0m\n\u001b[0m",
      "\u001b[0;32m<ipython-input-49-5dae4dec3fcc>\u001b[0m in \u001b[0;36mfind_closest\u001b[0;34m(probe_point)\u001b[0m\n\u001b[1;32m      1\u001b[0m \u001b[0;32mdef\u001b[0m \u001b[0mfind_closest\u001b[0m\u001b[0;34m(\u001b[0m\u001b[0mprobe_point\u001b[0m\u001b[0;34m)\u001b[0m\u001b[0;34m:\u001b[0m\u001b[0;34m\u001b[0m\u001b[0m\n\u001b[1;32m      2\u001b[0m     \u001b[0mtmp_col\u001b[0m \u001b[0;34m=\u001b[0m \u001b[0mlink_data\u001b[0m\u001b[0;34m[\u001b[0m\u001b[0;34m[\u001b[0m\u001b[0;34m'linkPVID'\u001b[0m\u001b[0;34m,\u001b[0m \u001b[0;34m'shapeInfo'\u001b[0m\u001b[0;34m]\u001b[0m\u001b[0;34m]\u001b[0m\u001b[0;34m\u001b[0m\u001b[0m\n\u001b[0;32m----> 3\u001b[0;31m     \u001b[0mtmp_col\u001b[0m\u001b[0;34m[\u001b[0m\u001b[0;34m'min_link_dist'\u001b[0m\u001b[0;34m]\u001b[0m \u001b[0;34m=\u001b[0m \u001b[0mtmp_col\u001b[0m\u001b[0;34m[\u001b[0m\u001b[0;34m'shapeInfo'\u001b[0m\u001b[0;34m]\u001b[0m\u001b[0;34m.\u001b[0m\u001b[0mapply\u001b[0m\u001b[0;34m(\u001b[0m\u001b[0;32mlambda\u001b[0m \u001b[0mx\u001b[0m\u001b[0;34m:\u001b[0m \u001b[0mmin\u001b[0m\u001b[0;34m(\u001b[0m\u001b[0mhaversine\u001b[0m\u001b[0;34m(\u001b[0m\u001b[0mprobe_point\u001b[0m\u001b[0;34m,\u001b[0m \u001b[0;34m[\u001b[0m\u001b[0mfloat\u001b[0m\u001b[0;34m(\u001b[0m\u001b[0mj\u001b[0m\u001b[0;34m)\u001b[0m \u001b[0;32mfor\u001b[0m \u001b[0mj\u001b[0m \u001b[0;32min\u001b[0m \u001b[0mi\u001b[0m\u001b[0;34m.\u001b[0m\u001b[0msplit\u001b[0m\u001b[0;34m(\u001b[0m\u001b[0;34m'/'\u001b[0m\u001b[0;34m)\u001b[0m\u001b[0;34m[\u001b[0m\u001b[0;34m:\u001b[0m\u001b[0;36m2\u001b[0m\u001b[0;34m]\u001b[0m\u001b[0;34m]\u001b[0m\u001b[0;34m)\u001b[0m \u001b[0;32mfor\u001b[0m \u001b[0mi\u001b[0m \u001b[0;32min\u001b[0m \u001b[0mx\u001b[0m\u001b[0;34m.\u001b[0m\u001b[0msplit\u001b[0m\u001b[0;34m(\u001b[0m\u001b[0;34m'|'\u001b[0m\u001b[0;34m)\u001b[0m\u001b[0;34m)\u001b[0m\u001b[0;34m)\u001b[0m\u001b[0;34m\u001b[0m\u001b[0m\n\u001b[0m\u001b[1;32m      4\u001b[0m     \u001b[0;32mreturn\u001b[0m \u001b[0mtmp_col\u001b[0m\u001b[0;34m.\u001b[0m\u001b[0mix\u001b[0m\u001b[0;34m[\u001b[0m\u001b[0mtmp_col\u001b[0m\u001b[0;34m[\u001b[0m\u001b[0;34m'min_link_dist'\u001b[0m\u001b[0;34m]\u001b[0m\u001b[0;34m.\u001b[0m\u001b[0midxmin\u001b[0m\u001b[0;34m(\u001b[0m\u001b[0;34m)\u001b[0m\u001b[0;34m]\u001b[0m\u001b[0;34m[\u001b[0m\u001b[0;34m'linkPVID'\u001b[0m\u001b[0;34m]\u001b[0m\u001b[0;34m\u001b[0m\u001b[0m\n",
      "\u001b[0;32m/Users/Nick/anaconda3/lib/python3.5/site-packages/pandas/core/series.py\u001b[0m in \u001b[0;36mapply\u001b[0;34m(self, func, convert_dtype, args, **kwds)\u001b[0m\n\u001b[1;32m   2218\u001b[0m         \u001b[0;32melse\u001b[0m\u001b[0;34m:\u001b[0m\u001b[0;34m\u001b[0m\u001b[0m\n\u001b[1;32m   2219\u001b[0m             \u001b[0mvalues\u001b[0m \u001b[0;34m=\u001b[0m \u001b[0mself\u001b[0m\u001b[0;34m.\u001b[0m\u001b[0masobject\u001b[0m\u001b[0;34m\u001b[0m\u001b[0m\n\u001b[0;32m-> 2220\u001b[0;31m             \u001b[0mmapped\u001b[0m \u001b[0;34m=\u001b[0m \u001b[0mlib\u001b[0m\u001b[0;34m.\u001b[0m\u001b[0mmap_infer\u001b[0m\u001b[0;34m(\u001b[0m\u001b[0mvalues\u001b[0m\u001b[0;34m,\u001b[0m \u001b[0mf\u001b[0m\u001b[0;34m,\u001b[0m \u001b[0mconvert\u001b[0m\u001b[0;34m=\u001b[0m\u001b[0mconvert_dtype\u001b[0m\u001b[0;34m)\u001b[0m\u001b[0;34m\u001b[0m\u001b[0m\n\u001b[0m\u001b[1;32m   2221\u001b[0m \u001b[0;34m\u001b[0m\u001b[0m\n\u001b[1;32m   2222\u001b[0m         \u001b[0;32mif\u001b[0m \u001b[0mlen\u001b[0m\u001b[0;34m(\u001b[0m\u001b[0mmapped\u001b[0m\u001b[0;34m)\u001b[0m \u001b[0;32mand\u001b[0m \u001b[0misinstance\u001b[0m\u001b[0;34m(\u001b[0m\u001b[0mmapped\u001b[0m\u001b[0;34m[\u001b[0m\u001b[0;36m0\u001b[0m\u001b[0;34m]\u001b[0m\u001b[0;34m,\u001b[0m \u001b[0mSeries\u001b[0m\u001b[0;34m)\u001b[0m\u001b[0;34m:\u001b[0m\u001b[0;34m\u001b[0m\u001b[0m\n",
      "\u001b[0;32mpandas/src/inference.pyx\u001b[0m in \u001b[0;36mpandas.lib.map_infer (pandas/lib.c:62658)\u001b[0;34m()\u001b[0m\n",
      "\u001b[0;32m<ipython-input-49-5dae4dec3fcc>\u001b[0m in \u001b[0;36m<lambda>\u001b[0;34m(x)\u001b[0m\n\u001b[1;32m      1\u001b[0m \u001b[0;32mdef\u001b[0m \u001b[0mfind_closest\u001b[0m\u001b[0;34m(\u001b[0m\u001b[0mprobe_point\u001b[0m\u001b[0;34m)\u001b[0m\u001b[0;34m:\u001b[0m\u001b[0;34m\u001b[0m\u001b[0m\n\u001b[1;32m      2\u001b[0m     \u001b[0mtmp_col\u001b[0m \u001b[0;34m=\u001b[0m \u001b[0mlink_data\u001b[0m\u001b[0;34m[\u001b[0m\u001b[0;34m[\u001b[0m\u001b[0;34m'linkPVID'\u001b[0m\u001b[0;34m,\u001b[0m \u001b[0;34m'shapeInfo'\u001b[0m\u001b[0;34m]\u001b[0m\u001b[0;34m]\u001b[0m\u001b[0;34m\u001b[0m\u001b[0m\n\u001b[0;32m----> 3\u001b[0;31m     \u001b[0mtmp_col\u001b[0m\u001b[0;34m[\u001b[0m\u001b[0;34m'min_link_dist'\u001b[0m\u001b[0;34m]\u001b[0m \u001b[0;34m=\u001b[0m \u001b[0mtmp_col\u001b[0m\u001b[0;34m[\u001b[0m\u001b[0;34m'shapeInfo'\u001b[0m\u001b[0;34m]\u001b[0m\u001b[0;34m.\u001b[0m\u001b[0mapply\u001b[0m\u001b[0;34m(\u001b[0m\u001b[0;32mlambda\u001b[0m \u001b[0mx\u001b[0m\u001b[0;34m:\u001b[0m \u001b[0mmin\u001b[0m\u001b[0;34m(\u001b[0m\u001b[0mhaversine\u001b[0m\u001b[0;34m(\u001b[0m\u001b[0mprobe_point\u001b[0m\u001b[0;34m,\u001b[0m \u001b[0;34m[\u001b[0m\u001b[0mfloat\u001b[0m\u001b[0;34m(\u001b[0m\u001b[0mj\u001b[0m\u001b[0;34m)\u001b[0m \u001b[0;32mfor\u001b[0m \u001b[0mj\u001b[0m \u001b[0;32min\u001b[0m \u001b[0mi\u001b[0m\u001b[0;34m.\u001b[0m\u001b[0msplit\u001b[0m\u001b[0;34m(\u001b[0m\u001b[0;34m'/'\u001b[0m\u001b[0;34m)\u001b[0m\u001b[0;34m[\u001b[0m\u001b[0;34m:\u001b[0m\u001b[0;36m2\u001b[0m\u001b[0;34m]\u001b[0m\u001b[0;34m]\u001b[0m\u001b[0;34m)\u001b[0m \u001b[0;32mfor\u001b[0m \u001b[0mi\u001b[0m \u001b[0;32min\u001b[0m \u001b[0mx\u001b[0m\u001b[0;34m.\u001b[0m\u001b[0msplit\u001b[0m\u001b[0;34m(\u001b[0m\u001b[0;34m'|'\u001b[0m\u001b[0;34m)\u001b[0m\u001b[0;34m)\u001b[0m\u001b[0;34m)\u001b[0m\u001b[0;34m\u001b[0m\u001b[0m\n\u001b[0m\u001b[1;32m      4\u001b[0m     \u001b[0;32mreturn\u001b[0m \u001b[0mtmp_col\u001b[0m\u001b[0;34m.\u001b[0m\u001b[0mix\u001b[0m\u001b[0;34m[\u001b[0m\u001b[0mtmp_col\u001b[0m\u001b[0;34m[\u001b[0m\u001b[0;34m'min_link_dist'\u001b[0m\u001b[0;34m]\u001b[0m\u001b[0;34m.\u001b[0m\u001b[0midxmin\u001b[0m\u001b[0;34m(\u001b[0m\u001b[0;34m)\u001b[0m\u001b[0;34m]\u001b[0m\u001b[0;34m[\u001b[0m\u001b[0;34m'linkPVID'\u001b[0m\u001b[0;34m]\u001b[0m\u001b[0;34m\u001b[0m\u001b[0m\n",
      "\u001b[0;31mKeyboardInterrupt\u001b[0m: "
     ]
    }
   ],
   "source": [
    "probe_data['pointToCurveNearest'] = probe_data[['sampleID', 'latitude', 'longitude']].apply(lambda x: find_closest((x[1], x[2])), axis=1)"
   ]
  },
  {
   "cell_type": "code",
   "execution_count": null,
   "metadata": {
    "collapsed": true
   },
   "outputs": [],
   "source": []
  }
 ],
 "metadata": {
  "anaconda-cloud": {},
  "kernelspec": {
   "display_name": "Python 3",
   "language": "python",
   "name": "python3"
  },
  "language_info": {
   "codemirror_mode": {
    "name": "ipython",
    "version": 3
   },
   "file_extension": ".py",
   "mimetype": "text/x-python",
   "name": "python",
   "nbconvert_exporter": "python",
   "pygments_lexer": "ipython3",
   "version": "3.5.2"
  }
 },
 "nbformat": 4,
 "nbformat_minor": 1
}
